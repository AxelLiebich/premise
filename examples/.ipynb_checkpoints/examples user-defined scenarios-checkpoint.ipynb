{
 "cells": [
  {
   "cell_type": "markdown",
   "id": "127fded4-377c-48c9-8d30-33852dfbd0ab",
   "metadata": {},
   "source": [
    "# Use examples of [premise](https://github.com/romainsacchi/premise) with user-generated scenarios\n",
    "\n",
    "Author: [romainsacchi](https://github.com/romainsacchi)\n",
    "\n",
    "This notebook shows examples on how to use `premise` to adapt the life cycle inventory database [ecoinvent](https://www.ecoinvent.org/) for prospective environmental impact assessment, using **user-generated scenarios**.\n",
    "\n",
    "User-generated scenario are scenarios built by the premise users community. They can be used on their own\n",
    "or together with a global IAM scenario.\n",
    "Public community scenarios are listed under the repository [Premise community scenario](https://github.com/premise-community-scenarios)."
   ]
  },
  {
   "cell_type": "markdown",
   "id": "a7694ff4-917d-4027-afe1-d63bf8d5b387",
   "metadata": {},
   "source": [
    "User-generated scenarios are \"packaged\" into [data packages](https://specs.frictionlessdata.io/data-package/)."
   ]
  },
  {
   "cell_type": "markdown",
   "id": "f2c96741-8a52-4d5d-b2bf-fc091ad97d43",
   "metadata": {},
   "source": [
    "Data packages ensure that the data used comes with all necessary metadata, resources (scenario data, inventories, etc.), and that the data is formatted in a correct way."
   ]
  },
  {
   "cell_type": "markdown",
   "id": "a9e4e85b-22eb-4a7e-928a-2ef7b5dd2814",
   "metadata": {},
   "source": [
    "To fetch a data packge, you can use the `datapackage` library.\n",
    "For exmaple, let's fetch the user-generated scenario about [Switzerland's future energy supply](https://github.com/premise-community-scenarios/energy-perspective-2050-switzerland)."
   ]
  },
  {
   "cell_type": "code",
   "execution_count": 22,
   "id": "90c8da09-12b1-4c35-bb36-550be70a738e",
   "metadata": {},
   "outputs": [],
   "source": [
    "from datapackage import Package"
   ]
  },
  {
   "cell_type": "code",
   "execution_count": 30,
   "id": "bda9c910-140b-4e65-9656-156158968c25",
   "metadata": {},
   "outputs": [],
   "source": [
    "# URL pointing to the raw datapackage.json file of the scenario\n",
    "#fp = \"https://raw.githubusercontent.com/premise-community-scenarios/cobalt-perspective-2050/main/datapackage.json\"\n",
    "#cobalt = Package(fp)\n",
    "\n",
    "#fp = r\"https://raw.githubusercontent.com/premise-community-scenarios/ammonia-prospective-scenarios/main/datapackage.json\"\n",
    "#ammonia = Package(fp)\n",
    "\n",
    "#fp = \"https://raw.githubusercontent.com/premise-community-scenarios/energy-perspective-2050-switzerland/main/datapackage.json\"\n",
    "#ep2050 = Package(fp)\n",
    "\n",
    "fp= \"https://raw.githubusercontent.com/premise-community-scenarios/scenario-example-bread/main/datapackage.json\"\n",
    "#fp = \"/Users/romain/GitHub/scenario-example-bread-/datapackage.json\"\n",
    "bread = Package(fp)"
   ]
  },
  {
   "cell_type": "code",
   "execution_count": 25,
   "id": "05168dfa-b9c2-4f73-90fe-fb7523c15bc1",
   "metadata": {},
   "outputs": [
    {
     "data": {
      "text/plain": [
       "['scenario_data', 'inventories', 'config']"
      ]
     },
     "execution_count": 25,
     "metadata": {},
     "output_type": "execute_result"
    }
   ],
   "source": [
    "bread.resource_names"
   ]
  },
  {
   "cell_type": "markdown",
   "id": "b615c6c4-6309-4b55-a375-f95f3446b8f5",
   "metadata": {},
   "source": [
    "The datapackage has 3 resources: scenario data, inventories and a configuration file."
   ]
  },
  {
   "cell_type": "code",
   "execution_count": 11,
   "id": "b88cc08c-c6c2-4890-9c39-c52f51d5b98e",
   "metadata": {},
   "outputs": [
    {
     "name": "stdout",
     "output_type": "stream",
     "text": [
      "scenario_data\n",
      "inventories\n",
      "config\n"
     ]
    }
   ],
   "source": [
    "for resource in ep2050.resources:\n",
    "    print(resource.name)"
   ]
  },
  {
   "cell_type": "markdown",
   "id": "d4e664d6-19a2-4ed2-aeec-38bfa97dce8f",
   "metadata": {},
   "source": [
    "or"
   ]
  },
  {
   "cell_type": "code",
   "execution_count": 13,
   "id": "a02895f5-adb8-4b7c-a5a1-a49ed936f140",
   "metadata": {},
   "outputs": [
    {
     "data": {
      "text/plain": [
       "['scenario_data', 'inventories', 'config']"
      ]
     },
     "execution_count": 13,
     "metadata": {},
     "output_type": "execute_result"
    }
   ],
   "source": [
    "bread.resource_names"
   ]
  },
  {
   "cell_type": "markdown",
   "id": "676f4a89-f709-46c1-8bc6-19f174ddff2f",
   "metadata": {},
   "source": [
    "And you can directly read them (or look the resources up directly from the repo):"
   ]
  },
  {
   "cell_type": "code",
   "execution_count": 26,
   "id": "c8814dca-0f42-4fb9-9169-025f1860f4b4",
   "metadata": {},
   "outputs": [
    {
     "data": {
      "text/html": [
       "<div>\n",
       "<style scoped>\n",
       "    .dataframe tbody tr th:only-of-type {\n",
       "        vertical-align: middle;\n",
       "    }\n",
       "\n",
       "    .dataframe tbody tr th {\n",
       "        vertical-align: top;\n",
       "    }\n",
       "\n",
       "    .dataframe thead th {\n",
       "        text-align: right;\n",
       "    }\n",
       "</style>\n",
       "<table border=\"1\" class=\"dataframe\">\n",
       "  <thead>\n",
       "    <tr style=\"text-align: right;\">\n",
       "      <th></th>\n",
       "      <th>0</th>\n",
       "      <th>1</th>\n",
       "      <th>2</th>\n",
       "      <th>3</th>\n",
       "      <th>4</th>\n",
       "      <th>5</th>\n",
       "      <th>6</th>\n",
       "      <th>7</th>\n",
       "      <th>8</th>\n",
       "      <th>9</th>\n",
       "      <th>...</th>\n",
       "      <th>11</th>\n",
       "      <th>12</th>\n",
       "      <th>13</th>\n",
       "      <th>14</th>\n",
       "      <th>15</th>\n",
       "      <th>16</th>\n",
       "      <th>17</th>\n",
       "      <th>18</th>\n",
       "      <th>19</th>\n",
       "      <th>20</th>\n",
       "    </tr>\n",
       "  </thead>\n",
       "  <tbody>\n",
       "    <tr>\n",
       "      <th>0</th>\n",
       "      <td>image</td>\n",
       "      <td>SSP2-Base</td>\n",
       "      <td>Business As Usual</td>\n",
       "      <td>BRA</td>\n",
       "      <td>Efficiency|Baking|Bread|Activated Dough Develo...</td>\n",
       "      <td>-</td>\n",
       "      <td>0.33</td>\n",
       "      <td>0.34</td>\n",
       "      <td>0.35</td>\n",
       "      <td>0.35</td>\n",
       "      <td>...</td>\n",
       "      <td>0.36</td>\n",
       "      <td>0.37</td>\n",
       "      <td>0.37</td>\n",
       "      <td>0.37</td>\n",
       "      <td>0.37</td>\n",
       "      <td>0.38</td>\n",
       "      <td>0.38</td>\n",
       "      <td>0.38</td>\n",
       "      <td>0.38</td>\n",
       "      <td>0.38</td>\n",
       "    </tr>\n",
       "    <tr>\n",
       "      <th>1</th>\n",
       "      <td>image</td>\n",
       "      <td>SSP2-Base</td>\n",
       "      <td>Business As Usual</td>\n",
       "      <td>CAN</td>\n",
       "      <td>Efficiency|Baking|Bread|Activated Dough Develo...</td>\n",
       "      <td>-</td>\n",
       "      <td>0.34</td>\n",
       "      <td>0.35</td>\n",
       "      <td>0.36</td>\n",
       "      <td>0.36</td>\n",
       "      <td>...</td>\n",
       "      <td>0.37</td>\n",
       "      <td>0.38</td>\n",
       "      <td>0.38</td>\n",
       "      <td>0.38</td>\n",
       "      <td>0.38</td>\n",
       "      <td>0.39</td>\n",
       "      <td>0.39</td>\n",
       "      <td>0.39</td>\n",
       "      <td>0.39</td>\n",
       "      <td>0.39</td>\n",
       "    </tr>\n",
       "    <tr>\n",
       "      <th>2</th>\n",
       "      <td>image</td>\n",
       "      <td>SSP2-Base</td>\n",
       "      <td>Business As Usual</td>\n",
       "      <td>CEU</td>\n",
       "      <td>Efficiency|Baking|Bread|Activated Dough Develo...</td>\n",
       "      <td>-</td>\n",
       "      <td>0.34</td>\n",
       "      <td>0.35</td>\n",
       "      <td>0.36</td>\n",
       "      <td>0.36</td>\n",
       "      <td>...</td>\n",
       "      <td>0.37</td>\n",
       "      <td>0.38</td>\n",
       "      <td>0.38</td>\n",
       "      <td>0.38</td>\n",
       "      <td>0.38</td>\n",
       "      <td>0.39</td>\n",
       "      <td>0.39</td>\n",
       "      <td>0.39</td>\n",
       "      <td>0.39</td>\n",
       "      <td>0.39</td>\n",
       "    </tr>\n",
       "    <tr>\n",
       "      <th>3</th>\n",
       "      <td>image</td>\n",
       "      <td>SSP2-Base</td>\n",
       "      <td>Business As Usual</td>\n",
       "      <td>CHN</td>\n",
       "      <td>Efficiency|Baking|Bread|Activated Dough Develo...</td>\n",
       "      <td>-</td>\n",
       "      <td>0.32</td>\n",
       "      <td>0.33</td>\n",
       "      <td>0.34</td>\n",
       "      <td>0.34</td>\n",
       "      <td>...</td>\n",
       "      <td>0.35</td>\n",
       "      <td>0.36</td>\n",
       "      <td>0.36</td>\n",
       "      <td>0.36</td>\n",
       "      <td>0.36</td>\n",
       "      <td>0.37</td>\n",
       "      <td>0.37</td>\n",
       "      <td>0.37</td>\n",
       "      <td>0.37</td>\n",
       "      <td>0.37</td>\n",
       "    </tr>\n",
       "    <tr>\n",
       "      <th>4</th>\n",
       "      <td>image</td>\n",
       "      <td>SSP2-Base</td>\n",
       "      <td>Business As Usual</td>\n",
       "      <td>EAF</td>\n",
       "      <td>Efficiency|Baking|Bread|Activated Dough Develo...</td>\n",
       "      <td>-</td>\n",
       "      <td>0.33</td>\n",
       "      <td>0.34</td>\n",
       "      <td>0.35</td>\n",
       "      <td>0.35</td>\n",
       "      <td>...</td>\n",
       "      <td>0.36</td>\n",
       "      <td>0.37</td>\n",
       "      <td>0.37</td>\n",
       "      <td>0.37</td>\n",
       "      <td>0.37</td>\n",
       "      <td>0.38</td>\n",
       "      <td>0.38</td>\n",
       "      <td>0.38</td>\n",
       "      <td>0.38</td>\n",
       "      <td>0.38</td>\n",
       "    </tr>\n",
       "  </tbody>\n",
       "</table>\n",
       "<p>5 rows × 21 columns</p>\n",
       "</div>"
      ],
      "text/plain": [
       "      0          1                  2    3   \\\n",
       "0  image  SSP2-Base  Business As Usual  BRA   \n",
       "1  image  SSP2-Base  Business As Usual  CAN   \n",
       "2  image  SSP2-Base  Business As Usual  CEU   \n",
       "3  image  SSP2-Base  Business As Usual  CHN   \n",
       "4  image  SSP2-Base  Business As Usual  EAF   \n",
       "\n",
       "                                                  4  5     6     7     8   \\\n",
       "0  Efficiency|Baking|Bread|Activated Dough Develo...  -  0.33  0.34  0.35   \n",
       "1  Efficiency|Baking|Bread|Activated Dough Develo...  -  0.34  0.35  0.36   \n",
       "2  Efficiency|Baking|Bread|Activated Dough Develo...  -  0.34  0.35  0.36   \n",
       "3  Efficiency|Baking|Bread|Activated Dough Develo...  -  0.32  0.33  0.34   \n",
       "4  Efficiency|Baking|Bread|Activated Dough Develo...  -  0.33  0.34  0.35   \n",
       "\n",
       "     9   ...    11    12    13    14    15    16    17    18    19    20  \n",
       "0  0.35  ...  0.36  0.37  0.37  0.37  0.37  0.38  0.38  0.38  0.38  0.38  \n",
       "1  0.36  ...  0.37  0.38  0.38  0.38  0.38  0.39  0.39  0.39  0.39  0.39  \n",
       "2  0.36  ...  0.37  0.38  0.38  0.38  0.38  0.39  0.39  0.39  0.39  0.39  \n",
       "3  0.34  ...  0.35  0.36  0.36  0.36  0.36  0.37  0.37  0.37  0.37  0.37  \n",
       "4  0.35  ...  0.36  0.37  0.37  0.37  0.37  0.38  0.38  0.38  0.38  0.38  \n",
       "\n",
       "[5 rows x 21 columns]"
      ]
     },
     "execution_count": 26,
     "metadata": {},
     "output_type": "execute_result"
    }
   ],
   "source": [
    "import pandas as pd\n",
    "data = bread.get_resource(\"scenario_data\").read()\n",
    "pd.DataFrame(data).head()"
   ]
  },
  {
   "cell_type": "markdown",
   "id": "952e8dfe-71ee-4649-80ac-a6e3934cfa1f",
   "metadata": {},
   "source": [
    "The datapackage can also be locally stored (i.e., on your computer), in which case you only\n",
    "need to provide the filepath to the `datapackage.json` file."
   ]
  },
  {
   "cell_type": "markdown",
   "id": "09760b15-e129-46b8-85d2-80aefa5c2a0c",
   "metadata": {},
   "source": [
    "Once the datapackage is loaded, you just need to pass it (in a list) to the `NewDatabase` instance of `premise`."
   ]
  },
  {
   "cell_type": "code",
   "execution_count": 27,
   "id": "f15e00e7-4086-4312-8090-ad432ea368d6",
   "metadata": {},
   "outputs": [],
   "source": [
    "from premise import *\n",
    "import bw2data\n",
    "bw2data.projects.set_current(\"carculator\")"
   ]
  },
  {
   "cell_type": "code",
   "execution_count": 31,
   "id": "b0408c8e-ce9e-4d6c-8e4b-a6a0db1ff384",
   "metadata": {},
   "outputs": [
    {
     "name": "stdout",
     "output_type": "stream",
     "text": [
      "premise v.(1, 3, 4)\n",
      "+------------------------------------------------------------------+\n",
      "| Warning                                                          |\n",
      "+------------------------------------------------------------------+\n",
      "| Because some of the scenarios can yield LCI databases            |\n",
      "| containing net negative emission technologies (NET),             |\n",
      "| it is advised to account for biogenic CO2 flows when calculating |\n",
      "| Global Warming potential indicators.                             |\n",
      "| `premise_gwp` provides characterization factors for such flows.  |\n",
      "| It also provides factors for hydrogen emissions to air.          |\n",
      "|                                                                  |\n",
      "| Within your bw2 project:                                         |\n",
      "| from premise_gwp import add_premise_gwp                          |\n",
      "| add_premise_gwp()                                                |\n",
      "+------------------------------------------------------------------+\n",
      "+--------------------------------+----------------------------------+\n",
      "| Utils functions                | Description                      |\n",
      "+--------------------------------+----------------------------------+\n",
      "| clear_cache()                  | Clears the cache folder. Useful  |\n",
      "|                                | when updating `premise`or        |\n",
      "|                                | encountering issues with         |\n",
      "|                                | inventories.                     |\n",
      "+--------------------------------+----------------------------------+\n",
      "| get_regions_definition(model)  | Retrieves the list of countries  |\n",
      "|                                | for each region of the model.    |\n",
      "+--------------------------------+----------------------------------+\n",
      "| ndb.NewDatabase(...)           | Generates a summary of the most  |\n",
      "| ndb.generate_scenario_report() | important scenarios' variables.  |\n",
      "+--------------------------------+----------------------------------+\n",
      "Keep uncertainty data?\n",
      "NewDatabase(..., keep_uncertainty_data=True)\n",
      "\n",
      "Hide these messages?\n",
      "NewDatabase(..., quiet=True)\n",
      "\n",
      "//////////////////// EXTRACTING SOURCE DATABASE ////////////////////\n",
      "Done!\n",
      "\n",
      "////////////////// IMPORTING DEFAULT INVENTORIES ///////////////////\n",
      "Done!\n",
      "\n",
      "/////////////////////// EXTRACTING IAM DATA ////////////////////////\n",
      "Done!\n"
     ]
    }
   ],
   "source": [
    "scenarios = [\n",
    "    {\"model\": \"image\", \"pathway\":\"SSP2-Base\", \"year\": 2040},\n",
    "    {\"model\": \"image\", \"pathway\":\"SSP2-Base\", \"year\": 2025},\n",
    "    {\"model\": \"image\", \"pathway\":\"SSP2-Base\", \"year\": 2035},\n",
    "    {\"model\": \"image\", \"pathway\":\"SSP2-RCP26\", \"year\": 2045},\n",
    "]\n",
    "\n",
    "ndb = NewDatabase(\n",
    "        scenarios = scenarios,        \n",
    "        source_db=\"ecoinvent 3.8 cutoff\",\n",
    "        source_version=\"3.8\",\n",
    "        key='tUePmX_S5B8ieZkkM7WUU2CnO8SmShwmAeWK9x2rTFo=',\n",
    "        external_scenarios=[\n",
    "            bread,\n",
    "        ]\n",
    ")\n"
   ]
  },
  {
   "cell_type": "markdown",
   "id": "560b5cc3-11c8-4499-b553-d79ec5203e3e",
   "metadata": {},
   "source": [
    "To integrate the projections of the user-generated scenario, call `update_external_scenario()`."
   ]
  },
  {
   "cell_type": "code",
   "execution_count": 32,
   "id": "51dd0dd9-86bf-42f3-bded-d3da98178b7e",
   "metadata": {},
   "outputs": [
    {
     "name": "stdout",
     "output_type": "stream",
     "text": [
      "\n",
      "//////////////// IMPORTING USER-DEFINED INVENTORIES ////////////////\n",
      "Extracted 1 worksheets in 0.00 seconds\n",
      "Create custom markets.\n",
      "Log file of exchanges saved under /Users/romain/GitHub/premise/premise/data/logs.\n"
     ]
    }
   ],
   "source": [
    "ndb.update_external_scenario()"
   ]
  },
  {
   "cell_type": "code",
   "execution_count": 33,
   "id": "ab8cc0b4-a410-40de-b386-5eb74933e2c7",
   "metadata": {},
   "outputs": [
    {
     "name": "stdout",
     "output_type": "stream",
     "text": [
      "Write new database(s) to Brightway2.\n",
      "Prepare database 1.\n",
      "- check for duplicates...\n",
      "- check for values format...\n",
      "- relinking exchanges...\n",
      "Done!\n",
      "21058 datasets\n",
      "674534 exchanges\n",
      "0 unlinked exchanges\n",
      "  \n"
     ]
    },
    {
     "name": "stderr",
     "output_type": "stream",
     "text": [
      "Writing activities to SQLite3 database:\n",
      "0% [##############################] 100% | ETA: 00:00:00\n",
      "Total time elapsed: 00:00:22\n"
     ]
    },
    {
     "name": "stdout",
     "output_type": "stream",
     "text": [
      "Title: Writing activities to SQLite3 database:\n",
      "  Started: 10/24/2022 17:29:31\n",
      "  Finished: 10/24/2022 17:29:53\n",
      "  Total time elapsed: 00:00:22\n",
      "  CPU %: 86.60\n",
      "  Memory %: 10.14\n",
      "Created database: ecoinvent_image_SSP2-Base_2040\n"
     ]
    }
   ],
   "source": [
    "ndb.write_db_to_brightway()"
   ]
  },
  {
   "cell_type": "markdown",
   "id": "37d05dd0-e5a1-4ff5-a91c-8c9c342da322",
   "metadata": {},
   "source": [
    "You can combine the user-generated scenario with any, all or none of the projections for the IAM model.\n",
    "For example, here with the electricity projections of the IMAGE SSP2-Base scenario:"
   ]
  },
  {
   "cell_type": "code",
   "execution_count": null,
   "id": "15c2e1f4-2d8c-47b5-b0ab-f641f1ebbf47",
   "metadata": {},
   "outputs": [],
   "source": [
    "scenarios = [\n",
    "    {\"model\": \"image\", \"pathway\":\"SSP2-Base\", \"year\": 2040},\n",
    "]\n",
    "\n",
    "ndb = NewDatabase(\n",
    "        scenarios = scenarios,        \n",
    "        source_db=\"ecoinvent 3.8 cutoff\",\n",
    "        source_version=\"3.8\",\n",
    "        key='xxxxx',\n",
    "        external_scenarios=[\n",
    "            switzerland_2050,\n",
    "        ]\n",
    ")\n",
    "\n",
    "ndb.update_electricity()\n",
    "ndb.update_external_scenario()"
   ]
  },
  {
   "cell_type": "markdown",
   "id": "30f6dffc-766d-442d-a93d-d53a2b127e72",
   "metadata": {},
   "source": [
    "Once the projections are integrated, you can export the database(s) back to your Brightway2 project, to\n",
    "a CSV Simapro file, or as a set of sparse amtrices (see main exmaples notebook for more details)."
   ]
  },
  {
   "cell_type": "code",
   "execution_count": null,
   "id": "c71a9cd5-e547-409e-868f-03cf6fe09cbf",
   "metadata": {},
   "outputs": [],
   "source": []
  }
 ],
 "metadata": {
  "kernelspec": {
   "display_name": "Python 3 (ipykernel)",
   "language": "python",
   "name": "python3"
  },
  "language_info": {
   "codemirror_mode": {
    "name": "ipython",
    "version": 3
   },
   "file_extension": ".py",
   "mimetype": "text/x-python",
   "name": "python",
   "nbconvert_exporter": "python",
   "pygments_lexer": "ipython3",
   "version": "3.9.12"
  }
 },
 "nbformat": 4,
 "nbformat_minor": 5
}
