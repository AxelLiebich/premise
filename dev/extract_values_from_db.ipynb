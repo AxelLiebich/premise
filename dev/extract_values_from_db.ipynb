{
 "cells": [
  {
   "cell_type": "code",
   "execution_count": 1,
   "id": "0ed3b952-28df-4d54-a83e-ebcf3128463c",
   "metadata": {},
   "outputs": [],
   "source": [
    "# import pandas as pd\n",
    "\n",
    "# sheets_dict = pd.read_excel('SI2.xlsx', sheet_name=None)\n",
    "\n",
    "\n",
    "# all_sheets = []\n",
    "# df = pd.DataFrame()\n",
    "# for name, sheet in sheets_dict.items():\n",
    "#     sheet = sheet.iloc[3:, :7]\n",
    "#     sheet[\"component\"] = name\n",
    "#     df = pd.concat([df, sheet])\n",
    "#     #print()"
   ]
  },
  {
   "cell_type": "code",
   "execution_count": 2,
   "id": "70a3e0fe-7efa-44ab-bd44-dfda912b410d",
   "metadata": {},
   "outputs": [],
   "source": [
    "# df.to_excel(\"metals_db.xlsx\")"
   ]
  },
  {
   "cell_type": "code",
   "execution_count": 3,
   "id": "06a11e05-c150-4dc9-9c95-890e73d4e594",
   "metadata": {},
   "outputs": [],
   "source": [
    "from premise.activity_maps import InventorySet, get_mapping\n",
    "from premise import *\n",
    "import brightway2 as bw\n",
    "import os\n",
    "bw.projects.set_current(\"EI39\")"
   ]
  },
  {
   "cell_type": "code",
   "execution_count": 4,
   "id": "6e0ae1ea-cd3f-42d4-99f6-afae7f0eba51",
   "metadata": {
    "scrolled": false
   },
   "outputs": [
    {
     "name": "stdout",
     "output_type": "stream",
     "text": [
      "premise v.(1, 5, 6)\n",
      "+------------------------------------------------------------------+\n",
      "| Warning                                                          |\n",
      "+------------------------------------------------------------------+\n",
      "| Because some of the scenarios can yield LCI databases            |\n",
      "| containing net negative emission technologies (NET),             |\n",
      "| it is advised to account for biogenic CO2 flows when calculating |\n",
      "| Global Warming potential indicators.                             |\n",
      "| `premise_gwp` provides characterization factors for such flows.  |\n",
      "| It also provides factors for hydrogen emissions to air.          |\n",
      "|                                                                  |\n",
      "| Within your bw2 project:                                         |\n",
      "| from premise_gwp import add_premise_gwp                          |\n",
      "| add_premise_gwp()                                                |\n",
      "+------------------------------------------------------------------+\n",
      "+--------------------------------+----------------------------------+\n",
      "| Utils functions                | Description                      |\n",
      "+--------------------------------+----------------------------------+\n",
      "| clear_cache()                  | Clears the cache folder. Useful  |\n",
      "|                                | when updating `premise`or        |\n",
      "|                                | encountering issues with         |\n",
      "|                                | inventories.                     |\n",
      "+--------------------------------+----------------------------------+\n",
      "| get_regions_definition(model)  | Retrieves the list of countries  |\n",
      "|                                | for each region of the model.    |\n",
      "+--------------------------------+----------------------------------+\n",
      "| ndb.NewDatabase(...)           | Generates a summary of the most  |\n",
      "| ndb.generate_scenario_report() | important scenarios' variables.  |\n",
      "+--------------------------------+----------------------------------+\n",
      "Keep uncertainty data?\n",
      "NewDatabase(..., keep_uncertainty_data=True)\n",
      "\n",
      "Hide these messages?\n",
      "NewDatabase(..., quiet=True)\n",
      "\n",
      "//////////////////// EXTRACTING SOURCE DATABASE ////////////////////\n",
      "Done!\n",
      "\n",
      "////////////////// IMPORTING DEFAULT INVENTORIES ///////////////////\n",
      "Done!\n",
      "\n",
      "/////////////////////// EXTRACTING IAM DATA ////////////////////////\n",
      "Done!\n"
     ]
    }
   ],
   "source": [
    "ndb = NewDatabase(\n",
    "        scenarios = [\n",
    "            {\"model\":\"image\", \"pathway\":\"SSP2-Base\", \"year\":2020,},\n",
    "            #{\"model\":\"image\", \"pathway\":\"SSP2-Base\", \"year\":2050,},\n",
    "        ],        \n",
    "        source_db=\"ecoinvent 3.9 cutoff\",\n",
    "        source_version=\"3.9.1\",\n",
    "        key=\"tUePmX_S5B8ieZkkM7WUU2CnO8SmShwmAeWK9x2rTFo=\",\n",
    "    )"
   ]
  },
  {
   "cell_type": "code",
   "execution_count": 5,
   "id": "540a2a16-85bf-4bfc-8198-0afe27091a11",
   "metadata": {},
   "outputs": [],
   "source": [
    "inv = InventorySet(ndb.database)"
   ]
  },
  {
   "cell_type": "code",
   "execution_count": 6,
   "id": "c2fc0651",
   "metadata": {
    "scrolled": false
   },
   "outputs": [
    {
     "data": {
      "text/plain": [
       "{'ICEV': {'passenger car production, petrol/natural gas'},\n",
       " 'EV': {'electric motor production, for electric scooter',\n",
       "  'electric motor production, vehicle',\n",
       "  'electric motor production, vehicle (electric powertrain)'},\n",
       " 'Wind-DDPM': {'wind power plant construction, 2MW, offshore, moving parts'},\n",
       " 'Wind-Gearbox': {'wind power plant construction, 800kW, moving parts',\n",
       "  'wind turbine construction, 2MW, onshore',\n",
       "  'wind turbine construction, 4.5MW, onshore',\n",
       "  'wind turbine construction, 750kW, onshore'},\n",
       " 'LMO': {'cathode production, LiMn2O4, for Li-ion battery'},\n",
       " 'NMC111': {'Battery cell, NMC-111',\n",
       "  'battery cell production, Li-ion, NMC111'},\n",
       " 'NMC622': {'Battery cell, NMC-622'},\n",
       " 'NMC811': {'Battery cell, NMC-811',\n",
       "  'battery cell production, Li-ion, NMC811'},\n",
       " 'NCA': {'Battery cell, NCA', 'battery cell production, Li-ion, NCA'},\n",
       " 'LFP': {'Battery cell, LFP', 'battery cell production, Li-ion, LFP'},\n",
       " 'Lead_Acid': {'battery production, lead acid, rechargeable, stationary'},\n",
       " 'NiMH': {'battery production, NiMH, rechargeable, prismatic'},\n",
       " 'PEMFC': {'fuel cell stack production, 1 kWe, proton exchange membrane (PEM)'},\n",
       " 'SOFC_yttrium': {'fuel cell production, stack solid oxide, 125kW electrical, future'},\n",
       " 'PEMEL': {'electrolyzer production, 1MWe, PEM, Stack'},\n",
       " 'AEL': {'electrolyzer production, 1MWe, AEC, Stack'},\n",
       " 'HTEL': {'electrolyzer production, 1MWe, SOEC, Stack'},\n",
       " 'pv_c_Si': {'electricity production, photovoltaic, 3kWp slanted-roof installation, ribbon-Si, laminated, integrated',\n",
       "  'electricity production, photovoltaic, 3kWp slanted-roof installation, ribbon-Si, panel, mounted',\n",
       "  'photovoltaic cell production, multi-Si wafer',\n",
       "  'photovoltaic cell production, ribbon-Si',\n",
       "  'photovoltaic cell production, single-Si wafer',\n",
       "  'photovoltaic cell, multi-Si, at plant',\n",
       "  'photovoltaic cell, single-Si, at plant',\n",
       "  'photovoltaic laminate production, multi-Si wafer',\n",
       "  'photovoltaic laminate production, ribbon-Si',\n",
       "  'photovoltaic laminate production, single-Si wafer',\n",
       "  'photovoltaic panel production, multi-Si wafer',\n",
       "  'photovoltaic panel production, ribbon-Si',\n",
       "  'photovoltaic panel production, single-Si wafer',\n",
       "  'photovoltaic slanted-roof installation, 3kWp, ribbon-Si, laminated, integrated, on roof',\n",
       "  'photovoltaic slanted-roof installation, 3kWp, ribbon-Si, panel, mounted, on roof'},\n",
       " 'pv_a_Si': {'photovoltaic laminate production, a-Si',\n",
       "  'photovoltaic laminate, micro-Si, at plant',\n",
       "  'photovoltaic panel, micro-Si, at plant'},\n",
       " 'pv_CIGS': {'photovoltaic laminate production, CIS',\n",
       "  'photovoltaic laminate, CIS, at plant'},\n",
       " 'pv_CdTe': {'market for photovoltaic laminate, CdTe',\n",
       "  'photovoltaic laminate production, CdTe',\n",
       "  'photovoltaic laminate, CdTe, First Solar Series 4, at plant',\n",
       "  'photovoltaic laminate, CdTe, First Solar Series 6, at plant'},\n",
       " 'pv_perovskite': {'photovoltaic panel, perovskite-Si-tandem, at plant'},\n",
       " 'csp_parabolic_SF': {'collector field area construction, solar thermal parabolic trough, 50 MW'},\n",
       " 'csp_parabolic': {'power block installation, solar thermal parabolic trough, 50 MW'},\n",
       " 'csp_tower_SF': {'collector field area construction, solar tower power plant, 20 MW'},\n",
       " 'csp_tower': {'power block installation, solar tower power plant, 20 MW'},\n",
       " 'nuclear': {'EPR construction',\n",
       "  'nuclear power plant construction, boiling water reactor 1000MW',\n",
       "  'nuclear power plant construction, pressure water reactor 650MW',\n",
       "  'nuclear power plant construction, pressure water reactor, 1000MW'}}"
      ]
     },
     "execution_count": 6,
     "metadata": {},
     "output_type": "execute_result"
    }
   ],
   "source": [
    "fp = os.path.abspath(\"../premise/data/metals/activities_mapping.yml\")\n",
    "mapping = get_mapping(filepath=fp, var=\"ecoinvent_aliases\")\n",
    "inv.generate_sets_from_filters(mapping)"
   ]
  },
  {
   "cell_type": "code",
   "execution_count": 7,
   "id": "c0af6934",
   "metadata": {},
   "outputs": [],
   "source": [
    "# inv = InventorySet(ndb.database)\n",
    "# inv.generate_metals_map()\n",
    "# test = inv.generate_metals_map()\n"
   ]
  }
 ],
 "metadata": {
  "kernelspec": {
   "display_name": "Python 3 (ipykernel)",
   "language": "python",
   "name": "python3"
  },
  "language_info": {
   "codemirror_mode": {
    "name": "ipython",
    "version": 3
   },
   "file_extension": ".py",
   "mimetype": "text/x-python",
   "name": "python",
   "nbconvert_exporter": "python",
   "pygments_lexer": "ipython3",
   "version": "3.9.15"
  }
 },
 "nbformat": 4,
 "nbformat_minor": 5
}
