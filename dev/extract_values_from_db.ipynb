{
 "cells": [
  {
   "cell_type": "code",
   "execution_count": 3,
   "id": "dc7e6012-7ff3-405e-9da5-68a6c089efc7",
   "metadata": {},
   "outputs": [],
   "source": [
    "import pandas as pd"
   ]
  },
  {
   "cell_type": "code",
   "execution_count": 29,
   "id": "0ed3b952-28df-4d54-a83e-ebcf3128463c",
   "metadata": {},
   "outputs": [],
   "source": [
    "sheets_dict = pd.read_excel('SI2.xlsx', sheet_name=None)\n",
    "\n",
    "\n",
    "all_sheets = []\n",
    "df = pd.DataFrame()\n",
    "for name, sheet in sheets_dict.items():\n",
    "    sheet = sheet.iloc[3:, :7]\n",
    "    sheet[\"component\"] = name\n",
    "    df = pd.concat([df, sheet])\n",
    "    #print()"
   ]
  },
  {
   "cell_type": "code",
   "execution_count": 30,
   "id": "70a3e0fe-7efa-44ab-bd44-dfda912b410d",
   "metadata": {},
   "outputs": [],
   "source": [
    "df.to_excel(\"metals_db.xlsx\")"
   ]
  },
  {
   "cell_type": "code",
   "execution_count": null,
   "id": "806565e8-ffe6-466d-8640-fbc9415e3166",
   "metadata": {},
   "outputs": [],
   "source": []
  },
  {
   "cell_type": "code",
   "execution_count": 7,
   "id": "06a11e05-c150-4dc9-9c95-890e73d4e594",
   "metadata": {},
   "outputs": [],
   "source": [
    "from premise.activity_maps import InventorySet, get_mapping\n",
    "from premise import *\n",
    "import brightway2 as bw\n",
    "bw.projects.set_current(\"new\")"
   ]
  },
  {
   "cell_type": "code",
   "execution_count": 5,
   "id": "6e0ae1ea-cd3f-42d4-99f6-afae7f0eba51",
   "metadata": {},
   "outputs": [
    {
     "name": "stdout",
     "output_type": "stream",
     "text": [
      "premise v.(1, 4, 1)\n",
      "+------------------------------------------------------------------+\n",
      "| Warning                                                          |\n",
      "+------------------------------------------------------------------+\n",
      "| Because some of the scenarios can yield LCI databases            |\n",
      "| containing net negative emission technologies (NET),             |\n",
      "| it is advised to account for biogenic CO2 flows when calculating |\n",
      "| Global Warming potential indicators.                             |\n",
      "| `premise_gwp` provides characterization factors for such flows.  |\n",
      "| It also provides factors for hydrogen emissions to air.          |\n",
      "|                                                                  |\n",
      "| Within your bw2 project:                                         |\n",
      "| from premise_gwp import add_premise_gwp                          |\n",
      "| add_premise_gwp()                                                |\n",
      "+------------------------------------------------------------------+\n",
      "+--------------------------------+----------------------------------+\n",
      "| Utils functions                | Description                      |\n",
      "+--------------------------------+----------------------------------+\n",
      "| clear_cache()                  | Clears the cache folder. Useful  |\n",
      "|                                | when updating `premise`or        |\n",
      "|                                | encountering issues with         |\n",
      "|                                | inventories.                     |\n",
      "+--------------------------------+----------------------------------+\n",
      "| get_regions_definition(model)  | Retrieves the list of countries  |\n",
      "|                                | for each region of the model.    |\n",
      "+--------------------------------+----------------------------------+\n",
      "| ndb.NewDatabase(...)           | Generates a summary of the most  |\n",
      "| ndb.generate_scenario_report() | important scenarios' variables.  |\n",
      "+--------------------------------+----------------------------------+\n",
      "Keep uncertainty data?\n",
      "NewDatabase(..., keep_uncertainty_data=True)\n",
      "\n",
      "Hide these messages?\n",
      "NewDatabase(..., quiet=True)\n",
      "\n",
      "//////////////////// EXTRACTING SOURCE DATABASE ////////////////////\n",
      "Done!\n",
      "\n",
      "////////////////// IMPORTING DEFAULT INVENTORIES ///////////////////\n",
      "Done!\n",
      "\n",
      "/////////////////////// EXTRACTING IAM DATA ////////////////////////\n",
      "Done!\n"
     ]
    }
   ],
   "source": [
    "ndb = NewDatabase(\n",
    "        scenarios = [\n",
    "            {\"model\":\"image\", \"pathway\":\"SSP2-Base\", \"year\":2020,},\n",
    "            #{\"model\":\"image\", \"pathway\":\"SSP2-Base\", \"year\":2050,},\n",
    "        ],        \n",
    "        source_db=\"ecoinvent 3.8 cutoff\",\n",
    "        source_version=\"3.8\",\n",
    "        key=\"tUePmX_S5B8ieZkkM7WUU2CnO8SmShwmAeWK9x2rTFo=\",\n",
    "    )"
   ]
  },
  {
   "cell_type": "code",
   "execution_count": 6,
   "id": "540a2a16-85bf-4bfc-8198-0afe27091a11",
   "metadata": {},
   "outputs": [],
   "source": [
    "inv = InventorySet(ndb.database)"
   ]
  },
  {
   "cell_type": "code",
   "execution_count": 44,
   "id": "e3d0197f-484e-455b-89cd-f680fd9d7949",
   "metadata": {},
   "outputs": [
    {
     "data": {
      "text/plain": [
       "{'ELECTRO_MOTOR': {'electric motor production, for electric scooter',\n",
       "  'electric motor production, vehicle',\n",
       "  'electric motor production, vehicle (electric powertrain)'},\n",
       " 'W_on_AG': {'wind power plant construction, 2MW, offshore, moving parts',\n",
       "  'wind power plant construction, 800kW, moving parts',\n",
       "  'wind turbine construction, 2MW, onshore',\n",
       "  'wind turbine construction, 4.5MW, onshore',\n",
       "  'wind turbine construction, 750kW, onshore'},\n",
       " 'W_on_SG_E_DD': {'wind power plant construction, 2MW, offshore, moving parts',\n",
       "  'wind power plant construction, 800kW, moving parts',\n",
       "  'wind turbine construction, 2MW, onshore',\n",
       "  'wind turbine construction, 4.5MW, onshore',\n",
       "  'wind turbine construction, 750kW, onshore'},\n",
       " 'W_on_HTS_DD': {'wind power plant construction, 2MW, offshore, moving parts',\n",
       "  'wind power plant construction, 800kW, moving parts',\n",
       "  'wind turbine construction, 2MW, onshore',\n",
       "  'wind turbine construction, 4.5MW, onshore',\n",
       "  'wind turbine construction, 750kW, onshore'},\n",
       " 'W_on_SG_PM_DD': {'wind power plant construction, 2MW, offshore, moving parts',\n",
       "  'wind power plant construction, 800kW, moving parts',\n",
       "  'wind turbine construction, 2MW, onshore',\n",
       "  'wind turbine construction, 4.5MW, onshore',\n",
       "  'wind turbine construction, 750kW, onshore'},\n",
       " 'W_on_SG_PM_MS': {'wind power plant construction, 2MW, offshore, moving parts',\n",
       "  'wind power plant construction, 800kW, moving parts',\n",
       "  'wind turbine construction, 2MW, onshore',\n",
       "  'wind turbine construction, 4.5MW, onshore',\n",
       "  'wind turbine construction, 750kW, onshore'},\n",
       " 'W_on_SG_PM_HS': {'wind power plant construction, 2MW, offshore, moving parts',\n",
       "  'wind power plant construction, 800kW, moving parts',\n",
       "  'wind turbine construction, 2MW, onshore',\n",
       "  'wind turbine construction, 4.5MW, onshore',\n",
       "  'wind turbine construction, 750kW, onshore'},\n",
       " 'W_off_AG': {'wind power plant construction, 2MW, offshore, moving parts',\n",
       "  'wind power plant construction, 800kW, moving parts',\n",
       "  'wind turbine construction, 2MW, onshore',\n",
       "  'wind turbine construction, 4.5MW, onshore',\n",
       "  'wind turbine construction, 750kW, onshore'},\n",
       " 'W_off_SG_E_DD': {'wind power plant construction, 2MW, offshore, moving parts',\n",
       "  'wind power plant construction, 800kW, moving parts',\n",
       "  'wind turbine construction, 2MW, onshore',\n",
       "  'wind turbine construction, 4.5MW, onshore',\n",
       "  'wind turbine construction, 750kW, onshore'},\n",
       " 'W_off_HTS_DD': {'wind power plant construction, 2MW, offshore, moving parts',\n",
       "  'wind power plant construction, 800kW, moving parts',\n",
       "  'wind turbine construction, 2MW, onshore',\n",
       "  'wind turbine construction, 4.5MW, onshore',\n",
       "  'wind turbine construction, 750kW, onshore'},\n",
       " 'W_off_SG_PM_DD': {'wind power plant construction, 2MW, offshore, moving parts',\n",
       "  'wind power plant construction, 800kW, moving parts',\n",
       "  'wind turbine construction, 2MW, onshore',\n",
       "  'wind turbine construction, 4.5MW, onshore',\n",
       "  'wind turbine construction, 750kW, onshore'},\n",
       " 'W_off_SG_PM_MS': {'wind power plant construction, 2MW, offshore, moving parts',\n",
       "  'wind power plant construction, 800kW, moving parts',\n",
       "  'wind turbine construction, 2MW, onshore',\n",
       "  'wind turbine construction, 4.5MW, onshore',\n",
       "  'wind turbine construction, 750kW, onshore'},\n",
       " 'W_off_SG_PM_HS': {'wind power plant construction, 2MW, offshore, moving parts',\n",
       "  'wind power plant construction, 800kW, moving parts',\n",
       "  'wind turbine construction, 2MW, onshore',\n",
       "  'wind turbine construction, 4.5MW, onshore',\n",
       "  'wind turbine construction, 750kW, onshore'},\n",
       " 'battery_LMO': {'cathode production, LiMn2O4, for lithium-ion battery'},\n",
       " 'battery_NMC111': {'Battery cell, NMC-111',\n",
       "  'battery cell production, Li-ion, NMC111'},\n",
       " 'battery_NMC622': {'Battery cell, NMC-622'},\n",
       " 'battery_NMC811': {'Battery cell, NMC-811',\n",
       "  'battery cell production, Li-ion, NMC811'},\n",
       " 'battery_NCA': {'Battery cell, NCA', 'battery cell production, Li-ion, NCA'},\n",
       " 'battery_LFP': {'Battery cell, LFP'},\n",
       " 'battery_Lead_Acid': {'battery production, lead acid, rechargeable, stationary'},\n",
       " 'fuel_cell_PEMFC': {'fuel cell production, polymer electrolyte membrane, 2kW electrical, future'},\n",
       " 'fuel_cell_SOFC_yttrium': {'fuel cell production, solid oxide, 125kW electrical, future'},\n",
       " 'fuel_cell_SOFC_scandium': {'fuel cell production, solid oxide, 125kW electrical, future'},\n",
       " 'pv_c_Si': {'photovoltaic laminate production, multi-Si wafer',\n",
       "  'photovoltaic laminate production, ribbon-Si',\n",
       "  'photovoltaic laminate production, single-Si wafer'},\n",
       " 'pv_a_Si': {'photovoltaic laminate production, a-Si'},\n",
       " 'pv_CIGS': {'photovoltaic laminate production, CIS'},\n",
       " 'pv_CdTe': {'photovoltaic laminate production, CdTe'},\n",
       " 'csp_parabolic_SF': set(),\n",
       " 'csp_parabolic': set(),\n",
       " 'csp_tower_SF': set(),\n",
       " 'csp_tower': set(),\n",
       " 'nuclear': {'nuclear power plant construction, boiling water reactor 1000MW',\n",
       "  'nuclear power plant construction, pressure water reactor 650MW',\n",
       "  'nuclear power plant construction, pressure water reactor, 1000MW'}}"
      ]
     },
     "execution_count": 44,
     "metadata": {},
     "output_type": "execute_result"
    }
   ],
   "source": [
    "fp = \"/Users/romain/GitHub/premise/premise/data/materials_emission_factors/materials_mapping.yml\"\n",
    "mapping = get_mapping(filepath=fp, var=\"ecoinvent_aliases\")\n",
    "inv.generate_sets_from_filters(mapping)"
   ]
  },
  {
   "cell_type": "code",
   "execution_count": null,
   "id": "4f22da6e-1d73-45c3-bd50-27f83209b61b",
   "metadata": {},
   "outputs": [],
   "source": []
  }
 ],
 "metadata": {
  "kernelspec": {
   "display_name": "Python 3 (ipykernel)",
   "language": "python",
   "name": "python3"
  },
  "language_info": {
   "codemirror_mode": {
    "name": "ipython",
    "version": 3
   },
   "file_extension": ".py",
   "mimetype": "text/x-python",
   "name": "python",
   "nbconvert_exporter": "python",
   "pygments_lexer": "ipython3",
   "version": "3.9.12"
  }
 },
 "nbformat": 4,
 "nbformat_minor": 5
}
