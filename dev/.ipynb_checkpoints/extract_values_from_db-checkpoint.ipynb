{
 "cells": [
  {
   "cell_type": "code",
   "execution_count": 3,
   "id": "dc7e6012-7ff3-405e-9da5-68a6c089efc7",
   "metadata": {},
   "outputs": [],
   "source": [
    "import pandas as pd"
   ]
  },
  {
   "cell_type": "code",
   "execution_count": 29,
   "id": "0ed3b952-28df-4d54-a83e-ebcf3128463c",
   "metadata": {},
   "outputs": [],
   "source": [
    "sheets_dict = pd.read_excel('SI2.xlsx', sheet_name=None)\n",
    "\n",
    "\n",
    "all_sheets = []\n",
    "df = pd.DataFrame()\n",
    "for name, sheet in sheets_dict.items():\n",
    "    sheet = sheet.iloc[3:, :7]\n",
    "    sheet[\"component\"] = name\n",
    "    df = pd.concat([df, sheet])\n",
    "    #print()"
   ]
  },
  {
   "cell_type": "code",
   "execution_count": 30,
   "id": "70a3e0fe-7efa-44ab-bd44-dfda912b410d",
   "metadata": {},
   "outputs": [],
   "source": [
    "df.to_excel(\"metals_db.xlsx\")"
   ]
  },
  {
   "cell_type": "code",
   "execution_count": null,
   "id": "806565e8-ffe6-466d-8640-fbc9415e3166",
   "metadata": {},
   "outputs": [],
   "source": []
  }
 ],
 "metadata": {
  "kernelspec": {
   "display_name": "Python 3 (ipykernel)",
   "language": "python",
   "name": "python3"
  },
  "language_info": {
   "codemirror_mode": {
    "name": "ipython",
    "version": 3
   },
   "file_extension": ".py",
   "mimetype": "text/x-python",
   "name": "python",
   "nbconvert_exporter": "python",
   "pygments_lexer": "ipython3",
   "version": "3.9.12"
  }
 },
 "nbformat": 4,
 "nbformat_minor": 5
}
