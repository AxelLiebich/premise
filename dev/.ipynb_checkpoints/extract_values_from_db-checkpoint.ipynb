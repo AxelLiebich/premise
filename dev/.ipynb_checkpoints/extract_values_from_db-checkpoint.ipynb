{
 "cells": [
  {
   "cell_type": "code",
   "execution_count": 1,
   "id": "dc7e6012-7ff3-405e-9da5-68a6c089efc7",
   "metadata": {},
   "outputs": [],
   "source": [
    "import pandas as pd"
   ]
  },
  {
   "cell_type": "code",
   "execution_count": 2,
   "id": "0ed3b952-28df-4d54-a83e-ebcf3128463c",
   "metadata": {},
   "outputs": [],
   "source": [
    "sheets_dict = pd.read_excel('SI2.xlsx', sheet_name=None)\n",
    "\n",
    "\n",
    "all_sheets = []\n",
    "df = pd.DataFrame()\n",
    "for name, sheet in sheets_dict.items():\n",
    "    sheet = sheet.iloc[3:, :7]\n",
    "    sheet[\"component\"] = name\n",
    "    df = pd.concat([df, sheet])\n",
    "    #print()"
   ]
  },
  {
   "cell_type": "code",
   "execution_count": 30,
   "id": "70a3e0fe-7efa-44ab-bd44-dfda912b410d",
   "metadata": {},
   "outputs": [],
   "source": [
    "df.to_excel(\"metals_db.xlsx\")"
   ]
  },
  {
   "cell_type": "code",
   "execution_count": 1,
   "id": "06a11e05-c150-4dc9-9c95-890e73d4e594",
   "metadata": {},
   "outputs": [],
   "source": [
    "from premise.activity_maps import InventorySet, get_mapping\n",
    "from premise import *\n",
    "import brightway2 as bw\n",
    "bw.projects.set_current(\"EI39\")"
   ]
  },
  {
   "cell_type": "code",
   "execution_count": 2,
   "id": "6e0ae1ea-cd3f-42d4-99f6-afae7f0eba51",
   "metadata": {
    "scrolled": false
   },
   "outputs": [
    {
     "name": "stdout",
     "output_type": "stream",
     "text": [
      "premise v.(1, 5, 6)\n",
      "+------------------------------------------------------------------+\n",
      "| Warning                                                          |\n",
      "+------------------------------------------------------------------+\n",
      "| Because some of the scenarios can yield LCI databases            |\n",
      "| containing net negative emission technologies (NET),             |\n",
      "| it is advised to account for biogenic CO2 flows when calculating |\n",
      "| Global Warming potential indicators.                             |\n",
      "| `premise_gwp` provides characterization factors for such flows.  |\n",
      "| It also provides factors for hydrogen emissions to air.          |\n",
      "|                                                                  |\n",
      "| Within your bw2 project:                                         |\n",
      "| from premise_gwp import add_premise_gwp                          |\n",
      "| add_premise_gwp()                                                |\n",
      "+------------------------------------------------------------------+\n",
      "+--------------------------------+----------------------------------+\n",
      "| Utils functions                | Description                      |\n",
      "+--------------------------------+----------------------------------+\n",
      "| clear_cache()                  | Clears the cache folder. Useful  |\n",
      "|                                | when updating `premise`or        |\n",
      "|                                | encountering issues with         |\n",
      "|                                | inventories.                     |\n",
      "+--------------------------------+----------------------------------+\n",
      "| get_regions_definition(model)  | Retrieves the list of countries  |\n",
      "|                                | for each region of the model.    |\n",
      "+--------------------------------+----------------------------------+\n",
      "| ndb.NewDatabase(...)           | Generates a summary of the most  |\n",
      "| ndb.generate_scenario_report() | important scenarios' variables.  |\n",
      "+--------------------------------+----------------------------------+\n",
      "Keep uncertainty data?\n",
      "NewDatabase(..., keep_uncertainty_data=True)\n",
      "\n",
      "Hide these messages?\n",
      "NewDatabase(..., quiet=True)\n",
      "\n",
      "//////////////////// EXTRACTING SOURCE DATABASE ////////////////////\n",
      "Done!\n",
      "\n",
      "////////////////// IMPORTING DEFAULT INVENTORIES ///////////////////\n",
      "Done!\n",
      "\n",
      "/////////////////////// EXTRACTING IAM DATA ////////////////////////\n",
      "Done!\n"
     ]
    }
   ],
   "source": [
    "ndb = NewDatabase(\n",
    "        scenarios = [\n",
    "            {\"model\":\"image\", \"pathway\":\"SSP2-Base\", \"year\":2020,},\n",
    "            #{\"model\":\"image\", \"pathway\":\"SSP2-Base\", \"year\":2050,},\n",
    "        ],        \n",
    "        source_db=\"ecoinvent 3.9 cutoff\",\n",
    "        source_version=\"3.9.1\",\n",
    "        key=\"tUePmX_S5B8ieZkkM7WUU2CnO8SmShwmAeWK9x2rTFo=\",\n",
    "    )"
   ]
  },
  {
   "cell_type": "code",
   "execution_count": 3,
   "id": "540a2a16-85bf-4bfc-8198-0afe27091a11",
   "metadata": {},
   "outputs": [],
   "source": [
    "inv = InventorySet(ndb.database)"
   ]
  },
  {
   "cell_type": "code",
   "execution_count": 25,
   "id": "33d6973d",
   "metadata": {},
   "outputs": [
    {
     "data": {
      "text/plain": [
       "{'ICEV': {'passenger car production, petrol/natural gas'},\n",
       " 'EV': {'electric motor production, for electric scooter',\n",
       "  'electric motor production, vehicle',\n",
       "  'electric motor production, vehicle (electric powertrain)'},\n",
       " 'Wind-DDPM': {'wind power plant construction, 2MW, offshore, moving parts'},\n",
       " 'Wind-Gearbox': {'wind power plant construction, 800kW, moving parts',\n",
       "  'wind turbine construction, 2MW, onshore',\n",
       "  'wind turbine construction, 4.5MW, onshore',\n",
       "  'wind turbine construction, 750kW, onshore'},\n",
       " 'LMO': {'cathode production, LiMn2O4, for Li-ion battery'},\n",
       " 'NMC111': {'Battery cell, NMC-111',\n",
       "  'battery cell production, Li-ion, NMC111'},\n",
       " 'NMC622': {'Battery cell, NMC-622'},\n",
       " 'NMC811': {'Battery cell, NMC-811',\n",
       "  'battery cell production, Li-ion, NMC811'},\n",
       " 'NCA': {'Battery cell, NCA', 'battery cell production, Li-ion, NCA'},\n",
       " 'LFP': {'Battery cell, LFP', 'battery cell production, Li-ion, LFP'},\n",
       " 'Lead_Acid': {'battery production, lead acid, rechargeable, stationary'},\n",
       " 'NiMH': {'battery production, NiMH, rechargeable, prismatic'},\n",
       " 'PEMFC': {'fuel cell stack production, 1 kWe, proton exchange membrane (PEM)'},\n",
       " 'SOFC_yttrium': {'fuel cell production, stack solid oxide, 125kW electrical, future'},\n",
       " 'PEMEL': {'electrolyzer production, 1MWe, PEM, Stack'},\n",
       " 'AEL': {'electrolyzer production, 1MWe, AEC, Stack'},\n",
       " 'HTEL': {'electrolyzer production, 1MWe, SOEC, Stack'},\n",
       " 'pv_c_Si': {'electricity production, photovoltaic, 3kWp slanted-roof installation, ribbon-Si, laminated, integrated',\n",
       "  'electricity production, photovoltaic, 3kWp slanted-roof installation, ribbon-Si, panel, mounted',\n",
       "  'photovoltaic cell production, multi-Si wafer',\n",
       "  'photovoltaic cell production, ribbon-Si',\n",
       "  'photovoltaic cell production, single-Si wafer',\n",
       "  'photovoltaic cell, multi-Si, at plant',\n",
       "  'photovoltaic cell, single-Si, at plant',\n",
       "  'photovoltaic laminate production, multi-Si wafer',\n",
       "  'photovoltaic laminate production, ribbon-Si',\n",
       "  'photovoltaic laminate production, single-Si wafer',\n",
       "  'photovoltaic panel production, multi-Si wafer',\n",
       "  'photovoltaic panel production, ribbon-Si',\n",
       "  'photovoltaic panel production, single-Si wafer',\n",
       "  'photovoltaic slanted-roof installation, 3kWp, ribbon-Si, laminated, integrated, on roof',\n",
       "  'photovoltaic slanted-roof installation, 3kWp, ribbon-Si, panel, mounted, on roof'},\n",
       " 'pv_a_Si': {'photovoltaic laminate production, a-Si',\n",
       "  'photovoltaic laminate, micro-Si, at plant',\n",
       "  'photovoltaic panel, micro-Si, at plant'},\n",
       " 'pv_CIGS': {'photovoltaic laminate production, CIS',\n",
       "  'photovoltaic laminate, CIS, at plant'},\n",
       " 'pv_CdTe': {'market for photovoltaic laminate, CdTe',\n",
       "  'photovoltaic laminate production, CdTe',\n",
       "  'photovoltaic laminate, CdTe, First Solar Series 4, at plant',\n",
       "  'photovoltaic laminate, CdTe, First Solar Series 6, at plant'},\n",
       " 'pv_perovskite': {'photovoltaic panel, perovskite-Si-tandem, at plant'},\n",
       " 'csp_parabolic_SF': {'collector field area construction, solar thermal parabolic trough, 50 MW'},\n",
       " 'csp_parabolic': {'power block installation, solar thermal parabolic trough, 50 MW'},\n",
       " 'csp_tower_SF': {'collector field area construction, solar tower power plant, 20 MW'},\n",
       " 'csp_tower': {'power block installation, solar tower power plant, 20 MW'},\n",
       " 'nuclear': {'EPR construction',\n",
       "  'nuclear power plant construction, boiling water reactor 1000MW',\n",
       "  'nuclear power plant construction, pressure water reactor 650MW',\n",
       "  'nuclear power plant construction, pressure water reactor, 1000MW'}}"
      ]
     },
     "execution_count": 25,
     "metadata": {},
     "output_type": "execute_result"
    }
   ],
   "source": [
    "fp = \"C:/Users/hahnme_a/PycharmProjects/premise/premise/data/metals/activities_mapping.yml\"\n",
    "mapping = get_mapping(filepath=fp, var=\"ecoinvent_aliases\")\n",
    "inv.generate_sets_from_filters(mapping)"
   ]
  },
  {
   "cell_type": "markdown",
   "id": "f67fc081",
   "metadata": {},
   "source": [
    "--------------"
   ]
  },
  {
   "cell_type": "code",
   "execution_count": 7,
   "id": "c0af6934",
   "metadata": {},
   "outputs": [
    {
     "data": {
      "text/plain": [
       "{'Dysprosium': {'Dysprosium, in ground'},\n",
       " 'Neodymium': {'Neodymium, 4% in bastnasite, 0.4% in crude ore, in ground'},\n",
       " 'Nickel': {'Nickel, 1.13% in sulfide, Ni 0.76% and Cu 0.76% in crude ore, in ground',\n",
       "  'Nickel, 1.98% in silicates, 1.04% in crude ore, in ground',\n",
       "  'Nickel, Ni 2.5E+0%, in mixed ore, in ground',\n",
       "  'Nickel, in ground'},\n",
       " 'Manganese': {'Manganese, 35.7% in sedimentary deposit, 14.2% in crude ore, in ground',\n",
       "  'Manganese, in ground'},\n",
       " 'Yttrium': {'Yttrium, in ground'},\n",
       " 'Vanadium': {'Vanadium, in ground'},\n",
       " 'Cobalt': {'Cobalt, Co 5.0E-2%, in mixed ore, in ground',\n",
       "  'Cobalt, in ground'},\n",
       " 'Lithium': {'Lithium, 0.15% in brine, in ground', 'Lithium, in ground'},\n",
       " 'Sulfur': {'Sulfur, in ground'},\n",
       " 'Platinum': {'Platinum, Pt 4.7E-7%, in mixed ore, in ground',\n",
       "  'Platinum, in ground'},\n",
       " 'Cerium': {'Cerium, 24% in bastnasite, 2.4% in crude ore, in ground',\n",
       "  'Cerium, in ground'},\n",
       " 'Lanthanum': {'Lanthanum, 7.2% in bastnasite, 0.72% in crude ore, in ground',\n",
       "  'Lanthanum, in ground'},\n",
       " 'Zirconium': {'Zirconium, 50% in zircon, 0.39% in crude ore, in ground',\n",
       "  'Zirconium, in ground'},\n",
       " 'Gadolinium': {'Gadolinium, 0.15% in bastnasite, 0.015% in crude ore, in ground',\n",
       "  'Gadolinium, in ground'},\n",
       " 'Scandium': {'Scandium, in ground'},\n",
       " 'Strontium': {'Strontium, in ground'},\n",
       " 'Potassium': {'Potassium, in ground'},\n",
       " 'Iridium': {'Iridium, in ground'},\n",
       " 'Silver': {'Silver, 0.007% in sulfide, Ag 0.004%, Pb, Zn, Cd, In, in ground',\n",
       "  'Silver, 0.01% in crude ore, in ground',\n",
       "  'Silver, 3.2ppm in sulfide, Ag 1.2ppm, Cu and Te, in crude ore, in ground',\n",
       "  'Silver, Ag 1.5E-4%, Au 6.8E-4%, in ore, in ground',\n",
       "  'Silver, Ag 1.5E-5%, Au 5.4E-4%, in ore, in ground',\n",
       "  'Silver, Ag 1.8E-6%, in mixed ore, in ground',\n",
       "  'Silver, Ag 2.1E-4%, Au 2.1E-4%, in ore, in ground',\n",
       "  'Silver, Ag 4.2E-3%, Au 1.1E-4%, in ore, in ground',\n",
       "  'Silver, Ag 4.6E-5%, Au 1.3E-4%, in ore, in ground',\n",
       "  'Silver, Ag 5.4E-3%, in mixed ore, in ground',\n",
       "  'Silver, Ag 7.6E-5%, Au 9.7E-5%, in ore, in ground',\n",
       "  'Silver, Ag 9.7E-4%, in mixed ore, in ground',\n",
       "  'Silver, in ground'},\n",
       " 'Germanium': {'Germanium, in ground'},\n",
       " 'Indium': {'Indium, 0.005% in sulfide, In 0.003%, Pb, Zn, Ag, Cd, in ground',\n",
       "  'Indium, in ground'},\n",
       " 'Gallium': {'Gallium, 0.014% in bauxite, in ground', 'Gallium, in ground'},\n",
       " 'Selenium': {'Selenium, in ground'},\n",
       " 'Cadmium': {'Cadmium, 0.30% in sulfide, Cd 0.18%, Pb, Zn, Ag, In, in ground',\n",
       "  'Cadmium, in ground'},\n",
       " 'Tellurium': {'Tellurium, 0.5ppm in sulfide, Te 0.2ppm, Cu and Ag, in crude ore, in ground',\n",
       "  'Tellurium, in ground'}}"
      ]
     },
     "execution_count": 7,
     "metadata": {},
     "output_type": "execute_result"
    }
   ],
   "source": [
    "inv = InventorySet(ndb.database)\n",
    "inv.generate_metals_map()"
   ]
  },
  {
   "cell_type": "code",
   "execution_count": 23,
   "id": "471347a6",
   "metadata": {},
   "outputs": [],
   "source": [
    "test = inv.generate_metals_map()"
   ]
  },
  {
   "cell_type": "code",
   "execution_count": 45,
   "id": "8a098a59",
   "metadata": {},
   "outputs": [
    {
     "data": {
      "text/plain": [
       "{'Cobalt, Co 5.0E-2%, in mixed ore, in ground', 'Cobalt, in ground'}"
      ]
     },
     "execution_count": 45,
     "metadata": {},
     "output_type": "execute_result"
    }
   ],
   "source": [
    "test[metal]"
   ]
  },
  {
   "cell_type": "code",
   "execution_count": 44,
   "id": "9a00e7a9",
   "metadata": {},
   "outputs": [
    {
     "ename": "KeyError",
     "evalue": "'Cobalt, in ground'",
     "output_type": "error",
     "traceback": [
      "\u001b[1;31m---------------------------------------------------------------------------\u001b[0m",
      "\u001b[1;31mKeyError\u001b[0m                                  Traceback (most recent call last)",
      "Cell \u001b[1;32mIn[44], line 2\u001b[0m\n\u001b[0;32m      1\u001b[0m metal \u001b[38;5;241m=\u001b[39m \u001b[38;5;124m'\u001b[39m\u001b[38;5;124mCobalt\u001b[39m\u001b[38;5;124m'\u001b[39m\n\u001b[1;32m----> 2\u001b[0m \u001b[43mtest\u001b[49m\u001b[43m[\u001b[49m\u001b[43mmetal\u001b[49m\u001b[38;5;241;43m+\u001b[39;49m\u001b[38;5;124;43m'\u001b[39;49m\u001b[38;5;124;43m, in ground\u001b[39;49m\u001b[38;5;124;43m'\u001b[39;49m\u001b[43m]\u001b[49m\n",
      "\u001b[1;31mKeyError\u001b[0m: 'Cobalt, in ground'"
     ]
    }
   ],
   "source": [
    "metal = 'Cobalt'\n",
    "test[metal+', in ground']"
   ]
  },
  {
   "cell_type": "code",
   "execution_count": 55,
   "id": "f571d663",
   "metadata": {},
   "outputs": [
    {
     "data": {
      "text/plain": [
       "'Cobalt, in ground'"
      ]
     },
     "execution_count": 55,
     "metadata": {},
     "output_type": "execute_result"
    }
   ],
   "source": [
    "result = [x for x in test[metal] if x == f'{metal}, in ground']\n",
    "result[0]"
   ]
  },
  {
   "cell_type": "code",
   "execution_count": 54,
   "id": "193214e7",
   "metadata": {},
   "outputs": [
    {
     "data": {
      "text/plain": [
       "'Cobalt, in ground'"
      ]
     },
     "execution_count": 54,
     "metadata": {},
     "output_type": "execute_result"
    }
   ],
   "source": [
    "list(result)[0]"
   ]
  }
 ],
 "metadata": {
  "kernelspec": {
   "display_name": "Python 3 (ipykernel)",
   "language": "python",
   "name": "python3"
  },
  "language_info": {
   "codemirror_mode": {
    "name": "ipython",
    "version": 3
   },
   "file_extension": ".py",
   "mimetype": "text/x-python",
   "name": "python",
   "nbconvert_exporter": "python",
   "pygments_lexer": "ipython3",
   "version": "3.9.15"
  }
 },
 "nbformat": 4,
 "nbformat_minor": 5
}
