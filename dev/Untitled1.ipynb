{
 "cells": [
  {
   "cell_type": "code",
   "execution_count": 1,
   "id": "5018b7ee-0169-49d7-9455-2f1aea562e9e",
   "metadata": {},
   "outputs": [],
   "source": [
    "from premise import *\n",
    "from datapackage import Package\n",
    "import bw2io as bw"
   ]
  },
  {
   "cell_type": "code",
   "execution_count": 2,
   "id": "0ca27c06-948c-4584-bebe-d505cb72d4f9",
   "metadata": {},
   "outputs": [],
   "source": [
    "import bw2data\n",
    "bw2data.projects.set_current(\"ei39\")"
   ]
  },
  {
   "cell_type": "code",
   "execution_count": 3,
   "id": "5e5c894b-2bd6-4fe1-a541-cf439293cd5b",
   "metadata": {},
   "outputs": [],
   "source": [
    "fp = r\"/Users/romain/GitHub/RTE_scenarios/datapackage.json\"\n",
    "FE2050 = Package(fp)"
   ]
  },
  {
   "cell_type": "code",
   "execution_count": 4,
   "id": "bee86950-ac96-49e0-8a9c-43920ae26096",
   "metadata": {},
   "outputs": [
    {
     "name": "stdout",
     "output_type": "stream",
     "text": [
      "premise v.(2, 1, 0, 'dev0')\n",
      "+------------------------------------------------------------------+\n",
      "| Warning                                                          |\n",
      "+------------------------------------------------------------------+\n",
      "| Because some of the scenarios can yield LCI databases            |\n",
      "| containing net negative emission technologies (NET),             |\n",
      "| it is advised to account for biogenic CO2 flows when calculating |\n",
      "| Global Warming potential indicators.                             |\n",
      "| `premise_gwp` provides characterization factors for such flows.  |\n",
      "| It also provides factors for hydrogen emissions to air.          |\n",
      "|                                                                  |\n",
      "| Within your bw2 project:                                         |\n",
      "| from premise_gwp import add_premise_gwp                          |\n",
      "| add_premise_gwp()                                                |\n",
      "+------------------------------------------------------------------+\n",
      "+--------------------------------+----------------------------------+\n",
      "| Utils functions                | Description                      |\n",
      "+--------------------------------+----------------------------------+\n",
      "| clear_cache()                  | Clears the cache folder. Useful  |\n",
      "|                                | when updating `premise`or        |\n",
      "|                                | encountering issues with         |\n",
      "|                                | inventories.                     |\n",
      "+--------------------------------+----------------------------------+\n",
      "| get_regions_definition(model)  | Retrieves the list of countries  |\n",
      "|                                | for each region of the model.    |\n",
      "+--------------------------------+----------------------------------+\n",
      "| ndb.NewDatabase(...)           | Generates a summary of the most  |\n",
      "| ndb.generate_scenario_report() | important scenarios' variables.  |\n",
      "+--------------------------------+----------------------------------+\n",
      "Keep uncertainty data?\n",
      "NewDatabase(..., keep_uncertainty_data=True)\n",
      "\n",
      "Disable multiprocessing?\n",
      "NewDatabase(..., use_multiprocessing=False)\n",
      "\n",
      "Hide these messages?\n",
      "NewDatabase(..., quiet=True)\n",
      "- Extracting source database\n",
      "- Extracting inventories\n",
      "- Fetching IAM data\n",
      "Done!\n"
     ]
    }
   ],
   "source": [
    "ndb = NewDatabase(\n",
    "    scenarios=[\n",
    "        #{\"model\":\"remind\", \"pathway\":\"SSP2-Base\", \"year\":2050},\n",
    "        #{\"model\":\"remind\", \"pathway\":\"SSP2-Base\", \"year\":2010},\n",
    "        #{\"model\":\"image\", \"pathway\":\"SSP2-Base\", \"year\":2020},\n",
    "        {\"model\":\"image\", \"pathway\":\"SSP2-Base\", \"year\":2050},\n",
    "        {\"model\":\"image\", \"pathway\":\"SSP2-Base\", \"year\":2040},\n",
    "        #{\"model\":\"image\", \"pathway\":\"SSP2-Base\", \"year\":2050},\n",
    "        #{\"model\":\"image\", \"pathway\":\"SSP2-Base\", \"year\":2050},\n",
    "    ],\n",
    "    source_db=\"ecoinvent 3.9.1 cutoff\", # <-- name of the database in the BW2 project. Must be a string.\n",
    "    source_version=\"3.9\", # <-- version of ecoinvent. Can be \"3.5\", \"3.6\", \"3.7\" or \"3.8\". Must be a string.\n",
    "    key=\"tUePmX_S5B8ieZkkM7WUU2CnO8SmShwmAeWK9x2rTFo=\",\n",
    "    #external_scenarios=[FE2050,]\n",
    "    use_multiprocessing=True,\n",
    "    #system_model=\"consequential\"\n",
    "    # to be requested from the library maintainers if you want to use default scenarios included in `premise`\n",
    ")"
   ]
  },
  {
   "cell_type": "code",
   "execution_count": 5,
   "id": "0c80994c-cbac-4143-81ee-1de1531a6f95",
   "metadata": {},
   "outputs": [
    {
     "name": "stdout",
     "output_type": "stream",
     "text": [
      "`update()` will skip the following sectors: 'buses', 'cars', 'two_wheelers'.\n",
      "If you want to update these sectors, please run them separately afterwards.\n"
     ]
    },
    {
     "name": "stderr",
     "output_type": "stream",
     "text": [
      "Updating: external: 100%|█████████████| 10/10 [06:37<00:00, 39.73s/it]\n"
     ]
    },
    {
     "name": "stdout",
     "output_type": "stream",
     "text": [
      "Done!\n",
      "\n"
     ]
    }
   ],
   "source": [
    "#ndb.update_electricity()\n",
    "#ndb.update_all()\n",
    "ndb.update()"
   ]
  },
  {
   "cell_type": "code",
   "execution_count": 6,
   "id": "dff4efb1-69ab-4bd5-8d52-4038df180a85",
   "metadata": {},
   "outputs": [
    {
     "name": "stdout",
     "output_type": "stream",
     "text": [
      "Write new database(s) to matrix.\n",
      "Generate scenario report.\n",
      "Report saved under /Users/romain/Github/premise/dev/export/scenario_report.\n",
      "Generate change report.\n",
      "Report saved under /Users/romain/Github/premise/dev.\n"
     ]
    }
   ],
   "source": [
    "ndb.write_db_to_matrices()"
   ]
  },
  {
   "cell_type": "code",
   "execution_count": 9,
   "id": "2c6fe50c-5140-4955-bdf3-03558e52940e",
   "metadata": {},
   "outputs": [
    {
     "ename": "AttributeError",
     "evalue": "Can't pickle local object 'main.<locals>.<lambda>'",
     "output_type": "error",
     "traceback": [
      "\u001b[0;31m---------------------------------------------------------------------------\u001b[0m",
      "\u001b[0;31mAttributeError\u001b[0m                            Traceback (most recent call last)",
      "Cell \u001b[0;32mIn[9], line 31\u001b[0m\n\u001b[1;32m     28\u001b[0m         process\u001b[38;5;241m.\u001b[39mjoin()\n\u001b[1;32m     30\u001b[0m \u001b[38;5;28;01mif\u001b[39;00m \u001b[38;5;18m__name__\u001b[39m \u001b[38;5;241m==\u001b[39m \u001b[38;5;124m\"\u001b[39m\u001b[38;5;124m__main__\u001b[39m\u001b[38;5;124m\"\u001b[39m:\n\u001b[0;32m---> 31\u001b[0m     \u001b[43mmain\u001b[49m\u001b[43m(\u001b[49m\u001b[43m)\u001b[49m\n",
      "Cell \u001b[0;32mIn[9], line 25\u001b[0m, in \u001b[0;36mmain\u001b[0;34m()\u001b[0m\n\u001b[1;32m     23\u001b[0m     process \u001b[38;5;241m=\u001b[39m Process(target\u001b[38;5;241m=\u001b[39m\u001b[38;5;28;01mlambda\u001b[39;00m: configure_logging(current_process()\u001b[38;5;241m.\u001b[39mpid)\u001b[38;5;241m.\u001b[39minfo(\u001b[38;5;124mf\u001b[39m\u001b[38;5;124m\"\u001b[39m\u001b[38;5;124mThis is an info message from process \u001b[39m\u001b[38;5;132;01m{\u001b[39;00mcurrent_process()\u001b[38;5;241m.\u001b[39mpid\u001b[38;5;132;01m}\u001b[39;00m\u001b[38;5;124m.\u001b[39m\u001b[38;5;124m\"\u001b[39m))\n\u001b[1;32m     24\u001b[0m     processes\u001b[38;5;241m.\u001b[39mappend(process)\n\u001b[0;32m---> 25\u001b[0m     \u001b[43mprocess\u001b[49m\u001b[38;5;241;43m.\u001b[39;49m\u001b[43mstart\u001b[49m\u001b[43m(\u001b[49m\u001b[43m)\u001b[49m\n\u001b[1;32m     27\u001b[0m \u001b[38;5;28;01mfor\u001b[39;00m process \u001b[38;5;129;01min\u001b[39;00m processes:\n\u001b[1;32m     28\u001b[0m     process\u001b[38;5;241m.\u001b[39mjoin()\n",
      "File \u001b[0;32m~/anaconda3/envs/premise/lib/python3.10/multiprocessing/process.py:121\u001b[0m, in \u001b[0;36mBaseProcess.start\u001b[0;34m(self)\u001b[0m\n\u001b[1;32m    118\u001b[0m \u001b[38;5;28;01massert\u001b[39;00m \u001b[38;5;129;01mnot\u001b[39;00m _current_process\u001b[38;5;241m.\u001b[39m_config\u001b[38;5;241m.\u001b[39mget(\u001b[38;5;124m'\u001b[39m\u001b[38;5;124mdaemon\u001b[39m\u001b[38;5;124m'\u001b[39m), \\\n\u001b[1;32m    119\u001b[0m        \u001b[38;5;124m'\u001b[39m\u001b[38;5;124mdaemonic processes are not allowed to have children\u001b[39m\u001b[38;5;124m'\u001b[39m\n\u001b[1;32m    120\u001b[0m _cleanup()\n\u001b[0;32m--> 121\u001b[0m \u001b[38;5;28mself\u001b[39m\u001b[38;5;241m.\u001b[39m_popen \u001b[38;5;241m=\u001b[39m \u001b[38;5;28;43mself\u001b[39;49m\u001b[38;5;241;43m.\u001b[39;49m\u001b[43m_Popen\u001b[49m\u001b[43m(\u001b[49m\u001b[38;5;28;43mself\u001b[39;49m\u001b[43m)\u001b[49m\n\u001b[1;32m    122\u001b[0m \u001b[38;5;28mself\u001b[39m\u001b[38;5;241m.\u001b[39m_sentinel \u001b[38;5;241m=\u001b[39m \u001b[38;5;28mself\u001b[39m\u001b[38;5;241m.\u001b[39m_popen\u001b[38;5;241m.\u001b[39msentinel\n\u001b[1;32m    123\u001b[0m \u001b[38;5;66;03m# Avoid a refcycle if the target function holds an indirect\u001b[39;00m\n\u001b[1;32m    124\u001b[0m \u001b[38;5;66;03m# reference to the process object (see bpo-30775)\u001b[39;00m\n",
      "File \u001b[0;32m~/anaconda3/envs/premise/lib/python3.10/multiprocessing/context.py:224\u001b[0m, in \u001b[0;36mProcess._Popen\u001b[0;34m(process_obj)\u001b[0m\n\u001b[1;32m    222\u001b[0m \u001b[38;5;129m@staticmethod\u001b[39m\n\u001b[1;32m    223\u001b[0m \u001b[38;5;28;01mdef\u001b[39;00m \u001b[38;5;21m_Popen\u001b[39m(process_obj):\n\u001b[0;32m--> 224\u001b[0m     \u001b[38;5;28;01mreturn\u001b[39;00m \u001b[43m_default_context\u001b[49m\u001b[38;5;241;43m.\u001b[39;49m\u001b[43mget_context\u001b[49m\u001b[43m(\u001b[49m\u001b[43m)\u001b[49m\u001b[38;5;241;43m.\u001b[39;49m\u001b[43mProcess\u001b[49m\u001b[38;5;241;43m.\u001b[39;49m\u001b[43m_Popen\u001b[49m\u001b[43m(\u001b[49m\u001b[43mprocess_obj\u001b[49m\u001b[43m)\u001b[49m\n",
      "File \u001b[0;32m~/anaconda3/envs/premise/lib/python3.10/multiprocessing/context.py:288\u001b[0m, in \u001b[0;36mSpawnProcess._Popen\u001b[0;34m(process_obj)\u001b[0m\n\u001b[1;32m    285\u001b[0m \u001b[38;5;129m@staticmethod\u001b[39m\n\u001b[1;32m    286\u001b[0m \u001b[38;5;28;01mdef\u001b[39;00m \u001b[38;5;21m_Popen\u001b[39m(process_obj):\n\u001b[1;32m    287\u001b[0m     \u001b[38;5;28;01mfrom\u001b[39;00m \u001b[38;5;21;01m.\u001b[39;00m\u001b[38;5;21;01mpopen_spawn_posix\u001b[39;00m \u001b[38;5;28;01mimport\u001b[39;00m Popen\n\u001b[0;32m--> 288\u001b[0m     \u001b[38;5;28;01mreturn\u001b[39;00m \u001b[43mPopen\u001b[49m\u001b[43m(\u001b[49m\u001b[43mprocess_obj\u001b[49m\u001b[43m)\u001b[49m\n",
      "File \u001b[0;32m~/anaconda3/envs/premise/lib/python3.10/multiprocessing/popen_spawn_posix.py:32\u001b[0m, in \u001b[0;36mPopen.__init__\u001b[0;34m(self, process_obj)\u001b[0m\n\u001b[1;32m     30\u001b[0m \u001b[38;5;28;01mdef\u001b[39;00m \u001b[38;5;21m__init__\u001b[39m(\u001b[38;5;28mself\u001b[39m, process_obj):\n\u001b[1;32m     31\u001b[0m     \u001b[38;5;28mself\u001b[39m\u001b[38;5;241m.\u001b[39m_fds \u001b[38;5;241m=\u001b[39m []\n\u001b[0;32m---> 32\u001b[0m     \u001b[38;5;28;43msuper\u001b[39;49m\u001b[43m(\u001b[49m\u001b[43m)\u001b[49m\u001b[38;5;241;43m.\u001b[39;49m\u001b[38;5;21;43m__init__\u001b[39;49m\u001b[43m(\u001b[49m\u001b[43mprocess_obj\u001b[49m\u001b[43m)\u001b[49m\n",
      "File \u001b[0;32m~/anaconda3/envs/premise/lib/python3.10/multiprocessing/popen_fork.py:19\u001b[0m, in \u001b[0;36mPopen.__init__\u001b[0;34m(self, process_obj)\u001b[0m\n\u001b[1;32m     17\u001b[0m \u001b[38;5;28mself\u001b[39m\u001b[38;5;241m.\u001b[39mreturncode \u001b[38;5;241m=\u001b[39m \u001b[38;5;28;01mNone\u001b[39;00m\n\u001b[1;32m     18\u001b[0m \u001b[38;5;28mself\u001b[39m\u001b[38;5;241m.\u001b[39mfinalizer \u001b[38;5;241m=\u001b[39m \u001b[38;5;28;01mNone\u001b[39;00m\n\u001b[0;32m---> 19\u001b[0m \u001b[38;5;28;43mself\u001b[39;49m\u001b[38;5;241;43m.\u001b[39;49m\u001b[43m_launch\u001b[49m\u001b[43m(\u001b[49m\u001b[43mprocess_obj\u001b[49m\u001b[43m)\u001b[49m\n",
      "File \u001b[0;32m~/anaconda3/envs/premise/lib/python3.10/multiprocessing/popen_spawn_posix.py:47\u001b[0m, in \u001b[0;36mPopen._launch\u001b[0;34m(self, process_obj)\u001b[0m\n\u001b[1;32m     45\u001b[0m \u001b[38;5;28;01mtry\u001b[39;00m:\n\u001b[1;32m     46\u001b[0m     reduction\u001b[38;5;241m.\u001b[39mdump(prep_data, fp)\n\u001b[0;32m---> 47\u001b[0m     \u001b[43mreduction\u001b[49m\u001b[38;5;241;43m.\u001b[39;49m\u001b[43mdump\u001b[49m\u001b[43m(\u001b[49m\u001b[43mprocess_obj\u001b[49m\u001b[43m,\u001b[49m\u001b[43m \u001b[49m\u001b[43mfp\u001b[49m\u001b[43m)\u001b[49m\n\u001b[1;32m     48\u001b[0m \u001b[38;5;28;01mfinally\u001b[39;00m:\n\u001b[1;32m     49\u001b[0m     set_spawning_popen(\u001b[38;5;28;01mNone\u001b[39;00m)\n",
      "File \u001b[0;32m~/anaconda3/envs/premise/lib/python3.10/multiprocessing/reduction.py:60\u001b[0m, in \u001b[0;36mdump\u001b[0;34m(obj, file, protocol)\u001b[0m\n\u001b[1;32m     58\u001b[0m \u001b[38;5;28;01mdef\u001b[39;00m \u001b[38;5;21mdump\u001b[39m(obj, file, protocol\u001b[38;5;241m=\u001b[39m\u001b[38;5;28;01mNone\u001b[39;00m):\n\u001b[1;32m     59\u001b[0m \u001b[38;5;250m    \u001b[39m\u001b[38;5;124;03m'''Replacement for pickle.dump() using ForkingPickler.'''\u001b[39;00m\n\u001b[0;32m---> 60\u001b[0m     \u001b[43mForkingPickler\u001b[49m\u001b[43m(\u001b[49m\u001b[43mfile\u001b[49m\u001b[43m,\u001b[49m\u001b[43m \u001b[49m\u001b[43mprotocol\u001b[49m\u001b[43m)\u001b[49m\u001b[38;5;241;43m.\u001b[39;49m\u001b[43mdump\u001b[49m\u001b[43m(\u001b[49m\u001b[43mobj\u001b[49m\u001b[43m)\u001b[49m\n",
      "\u001b[0;31mAttributeError\u001b[0m: Can't pickle local object 'main.<locals>.<lambda>'"
     ]
    }
   ],
   "source": [
    "from multiprocessing import Process, current_process\n",
    "import logging\n",
    "import os\n",
    "\n",
    "def configure_logging(process_id):\n",
    "    \"\"\"Configures logging for a process with a unique file per process.\"\"\"\n",
    "    log_filename = f\"process_{process_id}.log\"\n",
    "    \n",
    "    logger = logging.getLogger(f'worker_{process_id}')\n",
    "    logger.setLevel(logging.DEBUG)\n",
    "    file_handler = logging.FileHandler(log_filename, mode='a')\n",
    "    formatter = logging.Formatter('%(asctime)s - %(name)s - %(levelname)s - %(message)s')\n",
    "    file_handler.setFormatter(formatter)\n",
    "    logger.addHandler(file_handler)\n",
    "\n",
    "    logger.propagate = False\n",
    "    return logger\n",
    "\n",
    "def main():\n",
    "    processes = []\n",
    "    for _ in range(5):\n",
    "        # Start each process with a unique configuration based on the process ID.\n",
    "        process = Process(target=lambda: configure_logging(current_process().pid).info(f\"This is an info message from process {current_process().pid}.\"))\n",
    "        processes.append(process)\n",
    "        process.start()\n",
    "\n",
    "    for process in processes:\n",
    "        process.join()\n",
    "\n",
    "if __name__ == \"__main__\":\n",
    "    main()\n"
   ]
  },
  {
   "cell_type": "code",
   "execution_count": null,
   "id": "f637a740-167b-44c2-ae10-b4fccafa8153",
   "metadata": {},
   "outputs": [],
   "source": [
    "import bw2data\n",
    "bw2data.projects.set_current(\"new4\")"
   ]
  },
  {
   "cell_type": "code",
   "execution_count": null,
   "id": "5d5d3a6a-fd71-451d-b06c-70649130b4de",
   "metadata": {},
   "outputs": [],
   "source": [
    "preserve = [\n",
    "    \"biosphere3\",\n",
    "    \"ecoinvent 3.9.1 cutoff\",\n",
    "    \"ecoinvent 3.9.1 consequential\",\n",
    "    \"ecoinvent EN15804 3.9.1\",\n",
    "    \"ecoinvent 3.6 cutoff\",\n",
    "    \"ecoinvent 3.7 cutoff\",\n",
    "    \"ecoinvent 3.8 cutoff\",\n",
    "    \n",
    "]\n",
    "\n",
    "for db in list(bw2data.databases):\n",
    "    if db not in preserve:\n",
    "        del bw2data.databases[db]"
   ]
  },
  {
   "cell_type": "code",
   "execution_count": null,
   "id": "1ec96145-c2ff-4609-b292-b501981c178c",
   "metadata": {},
   "outputs": [],
   "source": [
    "ndb.write_db_to_brightway()"
   ]
  },
  {
   "cell_type": "code",
   "execution_count": null,
   "id": "b0f2c77a-da1b-4eec-b247-a1e5549bd2bc",
   "metadata": {},
   "outputs": [],
   "source": [
    "import numpy as np\n",
    "import pandas as pd\n",
    "df = pd.DataFrame(\n",
    "np.hstack(\n",
    "    [ndb.scenarios[0][\"iam data\"].electricity_markets.sel(region=\"EUR\"),\n",
    "    ndb.scenarios[1][\"iam data\"].electricity_markets.sel(region=\"EUR\"),\n",
    "    ndb.scenarios[2][\"iam data\"].electricity_markets.sel(region=\"EUR\"),\n",
    "    ndb.scenarios[3][\"iam data\"].electricity_markets.sel(region=\"EUR\"),]\n",
    "), columns=[2020, 2030, 2040, 2050],)"
   ]
  },
  {
   "cell_type": "code",
   "execution_count": null,
   "id": "e142fe52-a106-4a17-9293-1ee89b24a9e2",
   "metadata": {},
   "outputs": [],
   "source": [
    "df.index = ['Geothermal', 'Biomass CHP', 'Gas CHP', 'Wind Offshore', 'Coal PC CCS',\n",
    " 'Coal CHP','Gas CC CCS','Gas ST','Oil ST','Coal IGCC','Gas CC','Coal PC',\n",
    " 'Biomass IGCC CCS','Hydro','Storage, Hydrogen','Coal IGCC CCS','Nuclear',\n",
    " 'Wind Onshore','Biomass IGCC','Solar PV Centralized','Solar CSP']"
   ]
  },
  {
   "cell_type": "code",
   "execution_count": null,
   "id": "e4267255-1b33-41db-bc50-2bc1edb32075",
   "metadata": {},
   "outputs": [],
   "source": [
    "df"
   ]
  },
  {
   "cell_type": "code",
   "execution_count": null,
   "id": "d192777f-6bf6-48a0-8304-91a2f931156a",
   "metadata": {},
   "outputs": [],
   "source": [
    "ndb.generate_scenario_report()"
   ]
  },
  {
   "cell_type": "code",
   "execution_count": null,
   "id": "bb2117d5-3b9d-4d96-85fc-fba0d11941ae",
   "metadata": {},
   "outputs": [],
   "source": [
    "ndb."
   ]
  },
  {
   "cell_type": "code",
   "execution_count": null,
   "id": "7d2e63e8-ad98-4159-b058-807ea4c920f1",
   "metadata": {},
   "outputs": [],
   "source": [
    "import json\n",
    "import os\n",
    "import glob\n",
    "from pprint import pprint\n",
    "\n",
    "#fp=\"/Users/romain/Documents/premise_test/flows\"\n",
    "fp=\"/Users/romain/Documents/test_olca_39_4/flows\"\n",
    "\n",
    "l = []\n",
    "#Load the images from images folder.\n",
    "for f in glob.glob(f'{fp}/*.json'):\n",
    "    with open(f) as fd:\n",
    "     json_data = json.load(fd)\n",
    "     l.append([json_data[\"name\"], json_data[\"category\"], json_data[\"@id\"]])\n",
    "    "
   ]
  },
  {
   "cell_type": "code",
   "execution_count": null,
   "id": "86c4fe33-da01-408e-9b08-159937ff6280",
   "metadata": {},
   "outputs": [],
   "source": [
    "import pandas as pd\n",
    "pd.DataFrame(l, columns=[\"Source flow\", \"Source category\", \"id\"]).to_excel(\"mapping_source_2.xlsx\")"
   ]
  },
  {
   "cell_type": "code",
   "execution_count": null,
   "id": "1620d32b-24c2-44a7-b4ad-2f5af4f23b10",
   "metadata": {},
   "outputs": [],
   "source": [
    "import csv\n",
    "\n",
    "\n",
    "fp_in = \"/Users/romain/Documents/flow_mapping_premise4_.csv\"\n",
    "fp_out = \"/Users/romain/Documents/flow_mapping_premise5.csv\"\n",
    "\n",
    "l = []\n",
    "with open(fp_in) as csv_file:\n",
    "    csv_reader = csv.reader(csv_file, delimiter=',')\n",
    "    for r in csv_reader:\n",
    "        l.append(r)\n",
    "    \n",
    "with open(fp_out, 'w', newline='') as file:\n",
    "    writer = csv.writer(file, delimiter=';')\n",
    "    writer.writerows(l)"
   ]
  },
  {
   "cell_type": "code",
   "execution_count": null,
   "id": "8b40d4d6-f0c2-44cb-86f4-8e3f4a7e1025",
   "metadata": {},
   "outputs": [],
   "source": [
    "import csv\n",
    "\n",
    "\n",
    "fp_in = \"/Users/romain/Downloads/sp_flow_import_map.csv\"\n",
    "fp_out = \"/Users/romain/Downloads/sp_flow_import_map2.csv\"\n",
    "\n",
    "l = []\n",
    "with open(fp_in) as csv_file:\n",
    "    csv_reader = csv.reader(csv_file, delimiter=',')\n",
    "    for r in csv_reader:\n",
    "        l.append(r)\n",
    "    \n",
    "with open(fp_out, 'w', newline='') as file:\n",
    "    writer = csv.writer(file, delimiter=';')\n",
    "    writer.writerows(l)"
   ]
  },
  {
   "cell_type": "code",
   "execution_count": null,
   "id": "13c42083-25c6-4203-8bd9-733ef6f70344",
   "metadata": {},
   "outputs": [],
   "source": [
    "ndb.update_all()"
   ]
  },
  {
   "cell_type": "code",
   "execution_count": null,
   "id": "45e5ea3d-648a-48e1-a42b-98bfae378f5e",
   "metadata": {},
   "outputs": [],
   "source": [
    "scenarios = [\n",
    "    {\"model\": \"remind\", \"pathway\":\"SSP1-Base\", \"year\": 2050},\n",
    "    {\"model\": \"remind\", \"pathway\":\"SSP1-NDC\", \"year\": 2050},\n",
    "    #{\"model\": \"remind\", \"pathway\":\"SSP1-NPi\", \"year\": 2050},\n",
    "    #{\"model\": \"remind\", \"pathway\":\"SSP1-PkBudg1150\", \"year\": 2050},\n",
    "    #{\"model\": \"remind\", \"pathway\":\"SSP1-PkBudg500\", \"year\": 2050},\n",
    "    #{\"model\": \"remind\", \"pathway\":\"SSP5-Base\", \"year\": 2050},\n",
    "    #{\"model\": \"remind\", \"pathway\":\"SSP5-NDC\", \"year\": 2050},\n",
    "    #{\"model\": \"remind\", \"pathway\":\"SSP5-NPi\", \"year\": 2050},\n",
    "    #{\"model\": \"remind\", \"pathway\":\"SSP5-PkBudg1150\", \"year\": 2050},\n",
    "    #{\"model\": \"remind\", \"pathway\":\"SSP5-PkBudg500\", \"year\": 2050},\n",
    "]\n",
    "\n",
    "ndb = NewDatabase(\n",
    "        scenarios = scenarios,        \n",
    "        source_db=\"ecoinvent 3.9 cutoff\",\n",
    "        source_version=\"3.9\",\n",
    "        key='tUePmX_S5B8ieZkkM7WUU2CnO8SmShwmAeWK9x2rTFo=',\n",
    ")\n"
   ]
  },
  {
   "cell_type": "code",
   "execution_count": null,
   "id": "6c06ea89-5292-485d-a2f9-c334c7f90e61",
   "metadata": {},
   "outputs": [],
   "source": [
    "ndb.update_all()"
   ]
  },
  {
   "cell_type": "code",
   "execution_count": null,
   "id": "9a903437-dffc-4ba6-95fe-e643de14e252",
   "metadata": {},
   "outputs": [],
   "source": [
    "ndb.write_superstructure_db_to_brightway(\"test\")"
   ]
  },
  {
   "cell_type": "code",
   "execution_count": null,
   "id": "95ddd192",
   "metadata": {},
   "outputs": [],
   "source": [
    "bw.BW2Package.export_obj(bw.Database(\"test\"))"
   ]
  },
  {
   "cell_type": "code",
   "execution_count": null,
   "id": "adaba766",
   "metadata": {},
   "outputs": [],
   "source": []
  },
  {
   "cell_type": "code",
   "execution_count": null,
   "id": "283a8495",
   "metadata": {},
   "outputs": [],
   "source": [
    "import numpy as np\n",
    "for dataset in bw.Database(\"test\"):\n",
    "    #for exc in dataset.exchanges():\n",
    "    #    if not isinstance(exc[\"amount\"], float):\n",
    "    #        print(dataset[\"name\"], type(exc[\"amount\"]))\n",
    "\n",
    "    #    if isinstance(exc[\"amount\"], np.float64):\n",
    "    #        print(dataset[\"name\"], type(exc[\"amount\"]))\n",
    "\n",
    "    for k, v in dataset.items():\n",
    "        if isinstance(v, dict):\n",
    "            for i, j in v.items():\n",
    "                if isinstance(j, np.float64):\n",
    "                    #continue\n",
    "                    print(i, j)\n",
    "                    \n",
    "                if not type(j) in [str, float, int, tuple, list, dict, bool, None]:\n",
    "                    print(\"1\", dataset[\"name\"], i, j, type(j), float(j))\n",
    "\n",
    "    for e in dataset.exchanges():\n",
    "        for k, v in e.items():\n",
    "            if isinstance(v, np.float64):\n",
    "                #continue\n",
    "                print(k, v)\n",
    "                \n",
    "            if not type(v) in [str, float, int, tuple, list, dict, bool, None]:\n",
    "                print(\"2\", dataset[\"name\"], k, v, type(v), float(v))"
   ]
  },
  {
   "cell_type": "code",
   "execution_count": null,
   "id": "9b080edb-6115-4da6-bc82-df38186b94d4",
   "metadata": {},
   "outputs": [],
   "source": [
    "ndb.write_datapackage()"
   ]
  },
  {
   "cell_type": "code",
   "execution_count": null,
   "id": "1634239e-6138-4097-b069-b2f7b34b945e",
   "metadata": {},
   "outputs": [],
   "source": [
    "from unfold import Unfold\n",
    "import brightway2 as bw\n",
    "bw.projects.set_current(\"ei39\")"
   ]
  },
  {
   "cell_type": "code",
   "execution_count": null,
   "id": "d0d75b4c-61fc-47d2-b3e2-014f38f3902d",
   "metadata": {},
   "outputs": [],
   "source": [
    "u = Unfold(\"export/datapackage/datapackage_2023-04-20.zip\")"
   ]
  },
  {
   "cell_type": "code",
   "execution_count": null,
   "id": "a5b3ffb0-6dd5-442d-ac44-c76129fece6a",
   "metadata": {},
   "outputs": [],
   "source": [
    "u.unfold(superstructure=True, name=\"my_super_db\")"
   ]
  },
  {
   "cell_type": "code",
   "execution_count": null,
   "id": "0ada75a4-404c-4524-9bd2-7707290b1be9",
   "metadata": {},
   "outputs": [],
   "source": [
    "dict(enumerate([\"a\", \"b\", \"c\"]))"
   ]
  },
  {
   "cell_type": "code",
   "execution_count": null,
   "id": "42e0e862-beaa-40e7-aca8-ffa80712ff14",
   "metadata": {},
   "outputs": [],
   "source": [
    "ndb.write_db_to_brightway(\"test\")"
   ]
  },
  {
   "cell_type": "code",
   "execution_count": null,
   "id": "bac25ace-28a8-4799-8604-1a0a3054cf23",
   "metadata": {},
   "outputs": [],
   "source": [
    "variables = ndb.scenarios[0][\"iam data\"].fuel_markets.variables.values\n",
    "ndb.scenarios[0][\"iam data\"].fuel_markets.sel(region=\"EUR\", variables=[v for v in variables if \"diesel\" in v], year=2050).to_dataframe(\"val\")"
   ]
  },
  {
   "cell_type": "code",
   "execution_count": null,
   "id": "1d2ed3e9-59b4-41a9-863e-9b38388d99ec",
   "metadata": {},
   "outputs": [],
   "source": [
    "ndb.scenarios[0][\"iam data\"].gains_data_EU"
   ]
  },
  {
   "cell_type": "code",
   "execution_count": null,
   "id": "ee9a7999-ebf2-40d7-9c86-0a4c108fc95f",
   "metadata": {},
   "outputs": [],
   "source": [
    "ndb.write_db_to_brightway(\"test\")"
   ]
  },
  {
   "cell_type": "code",
   "execution_count": null,
   "id": "98ca5460-590c-453e-9cc9-ebb7f158618a",
   "metadata": {},
   "outputs": [],
   "source": [
    "ndb.write_datapackage()"
   ]
  },
  {
   "cell_type": "code",
   "execution_count": null,
   "id": "de89e412-fe4f-44ee-8525-bcbe11f1fa0c",
   "metadata": {},
   "outputs": [],
   "source": [
    "from unfold import Unfold"
   ]
  },
  {
   "cell_type": "code",
   "execution_count": null,
   "id": "85b6e404-e2c2-40c3-9da3-462848377927",
   "metadata": {},
   "outputs": [],
   "source": [
    "u = Unfold(\"/Users/romain/Downloads/premise_remind_ssp2_base.zip\")"
   ]
  },
  {
   "cell_type": "code",
   "execution_count": null,
   "id": "ef9600a0-a822-400e-959d-f53205fe71c4",
   "metadata": {},
   "outputs": [],
   "source": [
    "u.unfold(scenarios=[98, 99])"
   ]
  },
  {
   "cell_type": "code",
   "execution_count": null,
   "id": "50319a49-4be1-4575-aa8c-9c4997331931",
   "metadata": {},
   "outputs": [],
   "source": [
    "from unfold import Fold"
   ]
  },
  {
   "cell_type": "code",
   "execution_count": null,
   "id": "5f85ab4c-8446-4357-a305-c3de85eee041",
   "metadata": {},
   "outputs": [],
   "source": [
    "f = Fold()"
   ]
  },
  {
   "cell_type": "code",
   "execution_count": null,
   "id": "40ce2288-3aeb-4efb-9f5b-8f5401e9df4f",
   "metadata": {},
   "outputs": [],
   "source": [
    "f.fold()"
   ]
  },
  {
   "cell_type": "code",
   "execution_count": null,
   "id": "4a8ef61c-ebc8-448e-9e40-a3208baf1fbb",
   "metadata": {},
   "outputs": [],
   "source": [
    "import premise"
   ]
  },
  {
   "cell_type": "code",
   "execution_count": null,
   "id": "77af0626-4bf5-438c-a03d-a824a71f9239",
   "metadata": {},
   "outputs": [],
   "source": [
    "premise.__file__"
   ]
  },
  {
   "cell_type": "code",
   "execution_count": null,
   "id": "36de7eec-9942-41b4-905f-ac5414390961",
   "metadata": {},
   "outputs": [],
   "source": [
    "from premise import clear_cache"
   ]
  },
  {
   "cell_type": "code",
   "execution_count": null,
   "id": "5b103fd9-a6a1-435b-afb7-7f34ef51df79",
   "metadata": {},
   "outputs": [],
   "source": [
    "clear_cache()"
   ]
  },
  {
   "cell_type": "code",
   "execution_count": null,
   "id": "590becff-78e5-4c73-8571-56fd147ddd2b",
   "metadata": {},
   "outputs": [],
   "source": []
  }
 ],
 "metadata": {
  "kernelspec": {
   "display_name": "Python 3 (ipykernel)",
   "language": "python",
   "name": "python3"
  },
  "language_info": {
   "codemirror_mode": {
    "name": "ipython",
    "version": 3
   },
   "file_extension": ".py",
   "mimetype": "text/x-python",
   "name": "python",
   "nbconvert_exporter": "python",
   "pygments_lexer": "ipython3",
   "version": "3.10.13"
  }
 },
 "nbformat": 4,
 "nbformat_minor": 5
}
