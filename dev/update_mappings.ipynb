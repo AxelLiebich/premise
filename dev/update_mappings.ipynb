{
 "cells": [
  {
   "cell_type": "code",
   "execution_count": 1,
   "metadata": {},
   "outputs": [],
   "source": [
    "import pandas as pd\n",
    "import numpy as np\n",
    "import yaml"
   ]
  },
  {
   "cell_type": "markdown",
   "metadata": {},
   "source": [
    "## Create mapping file."
   ]
  },
  {
   "cell_type": "code",
   "execution_count": 2,
   "metadata": {},
   "outputs": [],
   "source": [
    "fp = \"GAINS_ecoinvent_mapping.xlsx\"\n",
    "df = pd.read_excel(fp, sheet_name=\"ActivitySector & NFR Code\")\n",
    "df = df.loc[(~df[\"ecoinvent\"].isna())&(df[\"ecoinvent\"]!=\"?\")]"
   ]
  },
  {
   "cell_type": "code",
   "execution_count": 3,
   "metadata": {},
   "outputs": [],
   "source": [
    "df[\"gains_aliases\"] = df[\"Sector\"] + df[\"Activity\"]"
   ]
  },
  {
   "cell_type": "code",
   "execution_count": 4,
   "metadata": {},
   "outputs": [],
   "source": [
    "d = {}\n",
    "for a in df[[\"Sector\", \"gains_aliases\", \"ecoinvent\", \"Activity\", \"mask name\", \"mask product\", \"EMF 30 sector\"]].to_dict(\"records\"):\n",
    "    \n",
    "    EU_sector_name = a[\"Sector\"] + a[\"Activity\"]\n",
    "    EU_sector_name = EU_sector_name.replace(\",\", \"\")\n",
    "    EU_sector_name = EU_sector_name.replace(\";\", \"\")\n",
    "    IAM_sector_name = a[\"EMF 30 sector\"]\n",
    "\n",
    "    if isinstance(a[\"EMF 30 sector\"], str):\n",
    "        data = {\n",
    "            \"gains_aliases_EU\": a[\"gains_aliases\"],\n",
    "            \"gains_aliases_IAM\": a[\"EMF 30 sector\"],\n",
    "            \"ecoinvent_aliases\": {\n",
    "                \"fltr\": a[\"ecoinvent\"].split(\";\"),\n",
    "            }\n",
    "        }\n",
    "    else:\n",
    "        data = {\n",
    "            \"gains_aliases_EU\": a[\"gains_aliases\"],\n",
    "            \"ecoinvent_aliases\": {\n",
    "                \"fltr\": a[\"ecoinvent\"].split(\";\"),\n",
    "            }\n",
    "        }\n",
    "\n",
    "    if isinstance(a[\"mask name\"], str):\n",
    "        data[\"ecoinvent_aliases\"].update(\n",
    "            {\"mask\": {\"name\": a[\"mask name\"].split(\";\")}}\n",
    "        )\n",
    "\n",
    "    if isinstance(a[\"mask product\"], str):\n",
    "        data.update(\n",
    "            {\"mask\": {\"reference product\": a[\"mask product\"].split(\";\")}}\n",
    "        )\n",
    "    \n",
    "    data[\"ecoinvent_aliases\"][\"fltr\"] = [b.strip() for b in data[\"ecoinvent_aliases\"][\"fltr\"] if len(b)>1]\n",
    "    data[\"ecoinvent_aliases\"][\"fltr\"] = list(set(data[\"ecoinvent_aliases\"][\"fltr\"]))\n",
    "    \n",
    "    \n",
    "    if EU_sector_name not in d:\n",
    "        d[EU_sector_name] = data\n",
    "    else:\n",
    "        d[EU_sector_name][\"ecoinvent_aliases\"][\"fltr\"].extend(data[\"ecoinvent_aliases\"][\"fltr\"])\n"
   ]
  },
  {
   "cell_type": "code",
   "execution_count": 5,
   "metadata": {},
   "outputs": [],
   "source": [
    "with open('gains_mapping.yml', 'w') as outfile:\n",
    "    yaml.dump(d, outfile, default_flow_style=False)"
   ]
  },
  {
   "cell_type": "markdown",
   "metadata": {},
   "source": [
    "Copy file to data directory."
   ]
  },
  {
   "cell_type": "code",
   "execution_count": 6,
   "metadata": {},
   "outputs": [
    {
     "data": {
      "text/plain": [
       "'../premise/data/GAINS_emission_factors/gains_mapping.yml'"
      ]
     },
     "execution_count": 6,
     "metadata": {},
     "output_type": "execute_result"
    }
   ],
   "source": [
    "from shutil import copy2\n",
    "\n",
    "copy2(\"gains_mapping.yml\", \"../premise/data/GAINS_emission_factors/\")\n"
   ]
  },
  {
   "cell_type": "markdown",
   "metadata": {},
   "source": [
    "## Update exchanges"
   ]
  },
  {
   "cell_type": "code",
   "execution_count": 7,
   "metadata": {},
   "outputs": [],
   "source": [
    "from premise import NewDatabase, get_regions_definition\n",
    "import brightway2 as bw\n",
    "bw.projects.set_current(\"test\")"
   ]
  },
  {
   "cell_type": "code",
   "execution_count": 8,
   "metadata": {},
   "outputs": [
    {
     "name": "stdout",
     "output_type": "stream",
     "text": [
      "premise v.(1, 3, 6)\n",
      "+------------------------------------------------------------------+\n",
      "| Warning                                                          |\n",
      "+------------------------------------------------------------------+\n",
      "| Because some of the scenarios can yield LCI databases            |\n",
      "| containing net negative emission technologies (NET),             |\n",
      "| it is advised to account for biogenic CO2 flows when calculating |\n",
      "| Global Warming potential indicators.                             |\n",
      "| `premise_gwp` provides characterization factors for such flows.  |\n",
      "| It also provides factors for hydrogen emissions to air.          |\n",
      "|                                                                  |\n",
      "| Within your bw2 project:                                         |\n",
      "| from premise_gwp import add_premise_gwp                          |\n",
      "| add_premise_gwp()                                                |\n",
      "+------------------------------------------------------------------+\n",
      "+--------------------------------+----------------------------------+\n",
      "| Utils functions                | Description                      |\n",
      "+--------------------------------+----------------------------------+\n",
      "| clear_cache()                  | Clears the cache folder. Useful  |\n",
      "|                                | when updating `premise`or        |\n",
      "|                                | encountering issues with         |\n",
      "|                                | inventories.                     |\n",
      "+--------------------------------+----------------------------------+\n",
      "| get_regions_definition(model)  | Retrieves the list of countries  |\n",
      "|                                | for each region of the model.    |\n",
      "+--------------------------------+----------------------------------+\n",
      "| ndb.NewDatabase(...)           | Generates a summary of the most  |\n",
      "| ndb.generate_scenario_report() | important scenarios' variables.  |\n",
      "+--------------------------------+----------------------------------+\n",
      "Keep uncertainty data?\n",
      "NewDatabase(..., keep_uncertainty_data=True)\n",
      "\n",
      "Hide these messages?\n",
      "NewDatabase(..., quiet=True)\n",
      "\n",
      "//////////////////// EXTRACTING SOURCE DATABASE ////////////////////\n",
      "Done!\n",
      "\n",
      "////////////////// IMPORTING DEFAULT INVENTORIES ///////////////////\n",
      "Done!\n",
      "\n",
      "/////////////////////// EXTRACTING IAM DATA ////////////////////////\n",
      "Done!\n"
     ]
    }
   ],
   "source": [
    "ndb = NewDatabase(\n",
    "    scenarios = [\n",
    "        {\"model\":\"remind\", \"pathway\":\"SSP2-Base\", \"year\":2035},\n",
    "    ],\n",
    "    source_db=\"ecoinvent 3.7.1 cutoff\",\n",
    "    source_version=\"3.7.1\",\n",
    "    key='tUePmX_S5B8ieZkkM7WUU2CnO8SmShwmAeWK9x2rTFo=',\n",
    ")"
   ]
  },
  {
   "cell_type": "code",
   "execution_count": 9,
   "metadata": {},
   "outputs": [],
   "source": [
    "from premise.emissions import Emissions\n",
    "em = Emissions(\n",
    "    database=ndb.database,\n",
    "    iam_data=ndb.scenarios[0][\"iam data\"],\n",
    "    model=\"remind\",\n",
    "    pathway=\"SSP2-Base\",\n",
    "    year=2050,\n",
    "    version=\"\",\n",
    "    gains_scenario=\"CLE\"\n",
    ")"
   ]
  },
  {
   "cell_type": "code",
   "execution_count": 10,
   "metadata": {},
   "outputs": [
    {
     "name": "stdout",
     "output_type": "stream",
     "text": [
      "Integrating GAINS EU emission factors.\n",
      "Integrating GAINS IAM emission factors.\n",
      "Logging changes made to the database.\n",
      "Log of changes in emissions of pollutants saved in C:\\Users\\davidba\\premise_develop\\premise\\data\\logs.\n"
     ]
    }
   ],
   "source": [
    "em.update_emissions_in_database()"
   ]
  },
  {
   "cell_type": "markdown",
   "metadata": {},
   "source": [
    "## Write coverage file"
   ]
  },
  {
   "cell_type": "code",
   "execution_count": 11,
   "metadata": {},
   "outputs": [],
   "source": [
    "list_res = []\n",
    "for ds in em.database:\n",
    "    \n",
    "    got_updated = False\n",
    "    for exc in ds[\"exchanges\"]:\n",
    "        if exc[\"type\"] == \"biosphere\" and exc.get(\"comment\"):\n",
    "            if len(exc[\"comment\"].split(\", \")) == 6:\n",
    "                d = [\n",
    "                    ds[\"name\"],\n",
    "                    ds[\"reference product\"],\n",
    "                    ds[\"unit\"],\n",
    "                    ds[\"location\"],\n",
    "                    exc[\"name\"],\n",
    "                ]\n",
    "                d.extend(exc[\"comment\"].split(\", \"))\n",
    "                list_res.append(d)\n",
    "                got_updated = True\n",
    "    if not got_updated:\n",
    "        if not any(x in ds[\"name\"] for x in [\"market for\", \"market group for\"]):\n",
    "            d = [\n",
    "                ds[\"name\"],\n",
    "                ds[\"reference product\"],\n",
    "                ds[\"unit\"],\n",
    "                ds[\"location\"],\n",
    "            ]\n",
    "            if ds[\"name\"] in em.rev_gains_map_EU.keys():\n",
    "                d.extend(4*[''])\n",
    "                d.append(em.rev_gains_map_EU[ds[\"name\"]])\n",
    "                d.extend(2*[''])\n",
    "            elif ds[\"name\"] in em.rev_gains_map_IAM.keys():\n",
    "                d.extend(4*[''])\n",
    "                d.append(em.rev_gains_map_IAM[ds[\"name\"]])\n",
    "                d.extend(2*[''])\n",
    "            else:\n",
    "                d.extend(7*[''])\n",
    "            list_res.append(d)\n",
    "\n",
    "modified = pd.DataFrame(\n",
    "    list_res,\n",
    "    columns=[\n",
    "        \"dataset name\",\n",
    "        \"dataset product\",\n",
    "        \"dataset unit\",\n",
    "        \"dataset location\",\n",
    "        \"pollutant\",\n",
    "        \"reduction factor\",\n",
    "        \"old value\",\n",
    "        \"new value\",\n",
    "        \"GAINS variable\",\n",
    "        \"GAINS pollutant\",\n",
    "        \"GAINS scenario\"\n",
    "    ],\n",
    ")\n",
    "\n",
    "modified.to_excel(\"GAINS_coverage.xlsx\")"
   ]
  },
  {
   "cell_type": "code",
   "execution_count": null,
   "metadata": {},
   "outputs": [],
   "source": []
  }
 ],
 "metadata": {
  "kernelspec": {
   "display_name": "Python 3 (ipykernel)",
   "language": "python",
   "name": "python3"
  },
  "language_info": {
   "codemirror_mode": {
    "name": "ipython",
    "version": 3
   },
   "file_extension": ".py",
   "mimetype": "text/x-python",
   "name": "python",
   "nbconvert_exporter": "python",
   "pygments_lexer": "ipython3",
   "version": "3.9.15"
  },
  "vscode": {
   "interpreter": {
    "hash": "323d364119d761395fc4b959b02f2acbc2ca18f5bf35dce972ffd76f2dd46276"
   }
  }
 },
 "nbformat": 4,
 "nbformat_minor": 2
}
