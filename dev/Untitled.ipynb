{
 "cells": [
  {
   "cell_type": "code",
   "execution_count": 1,
   "id": "94bc460b-26ea-45f1-b58e-67d27de516bc",
   "metadata": {},
   "outputs": [],
   "source": [
    "%load_ext autoreload\n",
    "%autoreload 2"
   ]
  },
  {
   "cell_type": "code",
   "execution_count": 2,
   "id": "3b27df0a-5769-49e9-9c5f-59f2bafe0c00",
   "metadata": {},
   "outputs": [
    {
     "data": {
      "text/plain": [
       "'/Users/romain/GitHub/premise/premise/__init__.py'"
      ]
     },
     "execution_count": 2,
     "metadata": {},
     "output_type": "execute_result"
    }
   ],
   "source": [
    "import premise\n",
    "premise.__file__"
   ]
  },
  {
   "cell_type": "code",
   "execution_count": 1,
   "id": "6d93e33a-b89e-4e56-bfb7-5a8a0a232053",
   "metadata": {},
   "outputs": [],
   "source": [
    "from premise import *\n",
    "import brightway2 as bw\n",
    "bw.projects.set_current(\"premise\")"
   ]
  },
  {
   "cell_type": "code",
   "execution_count": 4,
   "id": "5dddd682-711a-4ca8-b358-43cb3c71a570",
   "metadata": {},
   "outputs": [],
   "source": [
    "args = {\n",
    "    \"range time\": 5,\n",
    "    \"duration\": 0,\n",
    "    \"foresight\": False,\n",
    "    \"lead time\": 0,\n",
    "    \"capital replacement rate\": True,\n",
    "    \"measurement\": 4\n",
    "}"
   ]
  },
  {
   "cell_type": "code",
   "execution_count": 5,
   "id": "b8d3b9ac-4b32-4ec4-856d-ea58b6f9900a",
   "metadata": {},
   "outputs": [
    {
     "name": "stdout",
     "output_type": "stream",
     "text": [
      "+------------------------------------------------------------------+\n",
      "| Warning                                                          |\n",
      "+------------------------------------------------------------------+\n",
      "| Because some of the scenarios can yield LCI databases            |\n",
      "| containing net negative emission technologies (NET),             |\n",
      "| it is advised to account for biogenic CO2 flows when calculating |\n",
      "| Global Warming potential indicators.                             |\n",
      "| `premise_gwp` provides characterization factors for such flows.  |\n",
      "|                                                                  |\n",
      "| Within your bw2 project:                                         |\n",
      "| from premise_gwp import add_premise_gwp                          |\n",
      "| add_premise_gwp()                                                |\n",
      "+------------------------------------------------------------------+\n",
      "\n",
      "////////////////////// EXTRACTING SOURCE DATABASE //////////////////\n",
      "Done!\n",
      "\n",
      "//////////////////// IMPORTING DEFAULT INVENTORIES /////////////////\n",
      "Done!\n",
      "\n",
      "///////////////////////// EXTRACTING IAM DATA //////////////////////\n"
     ]
    },
    {
     "ename": "KeyError",
     "evalue": "(True, False, False, False)",
     "output_type": "error",
     "traceback": [
      "\u001b[0;31m---------------------------------------------------------------------------\u001b[0m",
      "\u001b[0;31mKeyError\u001b[0m                                  Traceback (most recent call last)",
      "Input \u001b[0;32mIn [5]\u001b[0m, in \u001b[0;36m<cell line: 1>\u001b[0;34m()\u001b[0m\n\u001b[0;32m----> 1\u001b[0m ndb \u001b[38;5;241m=\u001b[39m \u001b[43mNewDatabase\u001b[49m\u001b[43m(\u001b[49m\n\u001b[1;32m      2\u001b[0m \u001b[43m    \u001b[49m\u001b[43mscenarios\u001b[49m\u001b[43m \u001b[49m\u001b[38;5;241;43m=\u001b[39;49m\u001b[43m \u001b[49m\u001b[43m[\u001b[49m\n\u001b[1;32m      3\u001b[0m \u001b[43m        \u001b[49m\u001b[43m{\u001b[49m\u001b[38;5;124;43m\"\u001b[39;49m\u001b[38;5;124;43mmodel\u001b[39;49m\u001b[38;5;124;43m\"\u001b[39;49m\u001b[43m:\u001b[49m\u001b[38;5;124;43m\"\u001b[39;49m\u001b[38;5;124;43mimage\u001b[39;49m\u001b[38;5;124;43m\"\u001b[39;49m\u001b[43m,\u001b[49m\u001b[43m \u001b[49m\u001b[38;5;124;43m\"\u001b[39;49m\u001b[38;5;124;43mpathway\u001b[39;49m\u001b[38;5;124;43m\"\u001b[39;49m\u001b[43m:\u001b[49m\u001b[38;5;124;43m\"\u001b[39;49m\u001b[38;5;124;43mSSP2-RCP26\u001b[39;49m\u001b[38;5;124;43m\"\u001b[39;49m\u001b[43m,\u001b[49m\u001b[43m \u001b[49m\u001b[38;5;124;43m\"\u001b[39;49m\u001b[38;5;124;43myear\u001b[39;49m\u001b[38;5;124;43m\"\u001b[39;49m\u001b[43m:\u001b[49m\u001b[38;5;241;43m2055\u001b[39;49m\u001b[43m,\u001b[49m\u001b[43m}\u001b[49m\u001b[43m,\u001b[49m\n\u001b[1;32m      4\u001b[0m \u001b[43m        \u001b[49m\u001b[38;5;66;43;03m#{\"model\":\"image\", \"pathway\":\"SSP2-RCP26\", \"year\":2040,},\u001b[39;49;00m\n\u001b[1;32m      5\u001b[0m \u001b[43m        \u001b[49m\u001b[38;5;66;43;03m#{\"model\":\"image\", \"pathway\":\"SSP2-RCP19\", \"year\":2040,},\u001b[39;49;00m\n\u001b[1;32m      6\u001b[0m \u001b[43m    \u001b[49m\u001b[43m]\u001b[49m\u001b[43m,\u001b[49m\u001b[43m        \u001b[49m\n\u001b[1;32m      7\u001b[0m \u001b[43m    \u001b[49m\u001b[43msource_db\u001b[49m\u001b[38;5;241;43m=\u001b[39;49m\u001b[38;5;124;43m\"\u001b[39;49m\u001b[38;5;124;43mecoinvent 3.8 cutoff\u001b[39;49m\u001b[38;5;124;43m\"\u001b[39;49m\u001b[43m,\u001b[49m\n\u001b[1;32m      8\u001b[0m \u001b[43m    \u001b[49m\u001b[43msource_version\u001b[49m\u001b[38;5;241;43m=\u001b[39;49m\u001b[38;5;124;43m\"\u001b[39;49m\u001b[38;5;124;43m3.8\u001b[39;49m\u001b[38;5;124;43m\"\u001b[39;49m\u001b[43m,\u001b[49m\n\u001b[1;32m      9\u001b[0m \u001b[43m    \u001b[49m\u001b[43mkey\u001b[49m\u001b[38;5;241;43m=\u001b[39;49m\u001b[38;5;124;43m'\u001b[39;49m\u001b[38;5;124;43mtUePmX_S5B8ieZkkM7WUU2CnO8SmShwmAeWK9x2rTFo=\u001b[39;49m\u001b[38;5;124;43m'\u001b[39;49m\u001b[43m,\u001b[49m\n\u001b[1;32m     10\u001b[0m \u001b[43m    \u001b[49m\u001b[43msystem_model\u001b[49m\u001b[38;5;241;43m=\u001b[39;49m\u001b[38;5;124;43m\"\u001b[39;49m\u001b[38;5;124;43mconsequential\u001b[39;49m\u001b[38;5;124;43m\"\u001b[39;49m\u001b[43m,\u001b[49m\n\u001b[1;32m     11\u001b[0m \u001b[43m    \u001b[49m\u001b[43msystem_args\u001b[49m\u001b[38;5;241;43m=\u001b[39;49m\u001b[43margs\u001b[49m\n\u001b[1;32m     12\u001b[0m \u001b[43m)\u001b[49m\n",
      "File \u001b[0;32m~/GitHub/premise/premise/ecoinvent_modification.py:639\u001b[0m, in \u001b[0;36mNewDatabase.__init__\u001b[0;34m(self, scenarios, source_version, source_type, key, source_db, source_file_path, additional_inventories, use_cached_inventories, use_cached_database, system_model, system_args)\u001b[0m\n\u001b[1;32m    637\u001b[0m list_data \u001b[38;5;241m=\u001b[39m []\n\u001b[1;32m    638\u001b[0m \u001b[38;5;28;01mfor\u001b[39;00m scenario \u001b[38;5;129;01min\u001b[39;00m \u001b[38;5;28mself\u001b[39m\u001b[38;5;241m.\u001b[39mscenarios:\n\u001b[0;32m--> 639\u001b[0m     data \u001b[38;5;241m=\u001b[39m \u001b[43mIAMDataCollection\u001b[49m\u001b[43m(\u001b[49m\n\u001b[1;32m    640\u001b[0m \u001b[43m        \u001b[49m\u001b[43mmodel\u001b[49m\u001b[38;5;241;43m=\u001b[39;49m\u001b[43mscenario\u001b[49m\u001b[43m[\u001b[49m\u001b[38;5;124;43m\"\u001b[39;49m\u001b[38;5;124;43mmodel\u001b[39;49m\u001b[38;5;124;43m\"\u001b[39;49m\u001b[43m]\u001b[49m\u001b[43m,\u001b[49m\n\u001b[1;32m    641\u001b[0m \u001b[43m        \u001b[49m\u001b[43mpathway\u001b[49m\u001b[38;5;241;43m=\u001b[39;49m\u001b[43mscenario\u001b[49m\u001b[43m[\u001b[49m\u001b[38;5;124;43m\"\u001b[39;49m\u001b[38;5;124;43mpathway\u001b[39;49m\u001b[38;5;124;43m\"\u001b[39;49m\u001b[43m]\u001b[49m\u001b[43m,\u001b[49m\n\u001b[1;32m    642\u001b[0m \u001b[43m        \u001b[49m\u001b[43myear\u001b[49m\u001b[38;5;241;43m=\u001b[39;49m\u001b[43mscenario\u001b[49m\u001b[43m[\u001b[49m\u001b[38;5;124;43m\"\u001b[39;49m\u001b[38;5;124;43myear\u001b[39;49m\u001b[38;5;124;43m\"\u001b[39;49m\u001b[43m]\u001b[49m\u001b[43m,\u001b[49m\n\u001b[1;32m    643\u001b[0m \u001b[43m        \u001b[49m\u001b[43mfilepath_iam_files\u001b[49m\u001b[38;5;241;43m=\u001b[39;49m\u001b[43mscenario\u001b[49m\u001b[43m[\u001b[49m\u001b[38;5;124;43m\"\u001b[39;49m\u001b[38;5;124;43mfilepath\u001b[39;49m\u001b[38;5;124;43m\"\u001b[39;49m\u001b[43m]\u001b[49m\u001b[43m,\u001b[49m\n\u001b[1;32m    644\u001b[0m \u001b[43m        \u001b[49m\u001b[43mkey\u001b[49m\u001b[38;5;241;43m=\u001b[39;49m\u001b[43mkey\u001b[49m\u001b[43m,\u001b[49m\n\u001b[1;32m    645\u001b[0m \u001b[43m        \u001b[49m\u001b[43msystem_model\u001b[49m\u001b[38;5;241;43m=\u001b[39;49m\u001b[38;5;28;43mself\u001b[39;49m\u001b[38;5;241;43m.\u001b[39;49m\u001b[43msystem_model\u001b[49m\u001b[43m,\u001b[49m\n\u001b[1;32m    646\u001b[0m \u001b[43m        \u001b[49m\u001b[43msystem_model_args\u001b[49m\u001b[38;5;241;43m=\u001b[39;49m\u001b[38;5;28;43mself\u001b[39;49m\u001b[38;5;241;43m.\u001b[39;49m\u001b[43msystem_model_args\u001b[49m\u001b[43m,\u001b[49m\n\u001b[1;32m    647\u001b[0m \u001b[43m    \u001b[49m\u001b[43m)\u001b[49m\n\u001b[1;32m    648\u001b[0m     list_data\u001b[38;5;241m.\u001b[39mappend(data)\n\u001b[1;32m    650\u001b[0m     \u001b[38;5;66;03m# add additional columns to host pathway-specific data\u001b[39;00m\n",
      "File \u001b[0;32m~/GitHub/premise/premise/data_collection.py:149\u001b[0m, in \u001b[0;36mIAMDataCollection.__init__\u001b[0;34m(self, model, pathway, year, filepath_iam_files, key, system_model, system_model_args)\u001b[0m\n\u001b[1;32m    146\u001b[0m gains_data \u001b[38;5;241m=\u001b[39m get_gains_data()\n\u001b[1;32m    147\u001b[0m \u001b[38;5;28mself\u001b[39m\u001b[38;5;241m.\u001b[39mgnr_data \u001b[38;5;241m=\u001b[39m get_gnr_data()\n\u001b[0;32m--> 149\u001b[0m \u001b[38;5;28mself\u001b[39m\u001b[38;5;241m.\u001b[39melectricity_markets \u001b[38;5;241m=\u001b[39m \u001b[38;5;28;43mself\u001b[39;49m\u001b[38;5;241;43m.\u001b[39;49m\u001b[43m__get_iam_electricity_markets\u001b[49m\u001b[43m(\u001b[49m\u001b[43mdata\u001b[49m\u001b[38;5;241;43m=\u001b[39;49m\u001b[43mdata\u001b[49m\u001b[43m)\u001b[49m\n\u001b[1;32m    150\u001b[0m \u001b[38;5;28mself\u001b[39m\u001b[38;5;241m.\u001b[39mfuel_markets \u001b[38;5;241m=\u001b[39m \u001b[38;5;28mself\u001b[39m\u001b[38;5;241m.\u001b[39m__get_iam_fuel_markets(data\u001b[38;5;241m=\u001b[39mdata)\n\u001b[1;32m    152\u001b[0m prod_vars \u001b[38;5;241m=\u001b[39m \u001b[38;5;28mself\u001b[39m\u001b[38;5;241m.\u001b[39m__get_iam_variable_labels(IAM_ELEC_VARS, key\u001b[38;5;241m=\u001b[39m\u001b[38;5;124m\"\u001b[39m\u001b[38;5;124miam_aliases\u001b[39m\u001b[38;5;124m\"\u001b[39m)\n",
      "File \u001b[0;32m~/GitHub/premise/premise/data_collection.py:385\u001b[0m, in \u001b[0;36mIAMDataCollection.__get_iam_electricity_markets\u001b[0;34m(self, data, drop_hydrogen)\u001b[0m\n\u001b[1;32m    381\u001b[0m data_to_return\u001b[38;5;241m.\u001b[39mcoords[\u001b[38;5;124m\"\u001b[39m\u001b[38;5;124mvariables\u001b[39m\u001b[38;5;124m\"\u001b[39m] \u001b[38;5;241m=\u001b[39m list_vars\n\u001b[1;32m    383\u001b[0m \u001b[38;5;28;01mif\u001b[39;00m \u001b[38;5;28mself\u001b[39m\u001b[38;5;241m.\u001b[39msystem_model \u001b[38;5;241m!=\u001b[39m \u001b[38;5;124m\"\u001b[39m\u001b[38;5;124mattributional\u001b[39m\u001b[38;5;124m\"\u001b[39m:\n\u001b[0;32m--> 385\u001b[0m     data_to_return \u001b[38;5;241m=\u001b[39m \u001b[43mconsequential_method\u001b[49m\u001b[43m(\u001b[49m\u001b[43mdata_to_return\u001b[49m\u001b[43m,\u001b[49m\u001b[43m \u001b[49m\u001b[38;5;28;43mself\u001b[39;49m\u001b[38;5;241;43m.\u001b[39;49m\u001b[43myear\u001b[49m\u001b[43m,\u001b[49m\u001b[43m \u001b[49m\u001b[38;5;28;43mself\u001b[39;49m\u001b[38;5;241;43m.\u001b[39;49m\u001b[43msystem_model_args\u001b[49m\u001b[43m)\u001b[49m\n\u001b[1;32m    387\u001b[0m \u001b[38;5;28;01melse\u001b[39;00m:\n\u001b[1;32m    388\u001b[0m     data_to_return \u001b[38;5;241m/\u001b[39m\u001b[38;5;241m=\u001b[39m (\n\u001b[1;32m    389\u001b[0m         data\u001b[38;5;241m.\u001b[39mloc[:, list_technologies, :]\u001b[38;5;241m.\u001b[39mgroupby(\u001b[38;5;124m\"\u001b[39m\u001b[38;5;124mregion\u001b[39m\u001b[38;5;124m\"\u001b[39m)\u001b[38;5;241m.\u001b[39msum(dim\u001b[38;5;241m=\u001b[39m\u001b[38;5;124m\"\u001b[39m\u001b[38;5;124mvariables\u001b[39m\u001b[38;5;124m\"\u001b[39m)\n\u001b[1;32m    390\u001b[0m     )\n",
      "File \u001b[0;32m~/GitHub/premise/premise/marginal_mixes.py:231\u001b[0m, in \u001b[0;36mconsequential_method\u001b[0;34m(data, year, args)\u001b[0m\n\u001b[1;32m    189\u001b[0m shares \u001b[38;5;241m=\u001b[39m data_full\u001b[38;5;241m.\u001b[39msel(region\u001b[38;5;241m=\u001b[39mregion, year\u001b[38;5;241m=\u001b[39myear) \u001b[38;5;241m/\u001b[39m data_full\u001b[38;5;241m.\u001b[39msel(\n\u001b[1;32m    190\u001b[0m     region\u001b[38;5;241m=\u001b[39mregion, year\u001b[38;5;241m=\u001b[39myear\n\u001b[1;32m    191\u001b[0m )\u001b[38;5;241m.\u001b[39msum(dim\u001b[38;5;241m=\u001b[39m\u001b[38;5;124m\"\u001b[39m\u001b[38;5;124mvariables\u001b[39m\u001b[38;5;124m\"\u001b[39m)\n\u001b[1;32m    193\u001b[0m time_parameters \u001b[38;5;241m=\u001b[39m {\n\u001b[1;32m    194\u001b[0m     (\u001b[38;5;28;01mFalse\u001b[39;00m, \u001b[38;5;28;01mFalse\u001b[39;00m, \u001b[38;5;28;01mFalse\u001b[39;00m, \u001b[38;5;28;01mFalse\u001b[39;00m): {\n\u001b[1;32m    195\u001b[0m         \u001b[38;5;124m\"\u001b[39m\u001b[38;5;124mstart\u001b[39m\u001b[38;5;124m\"\u001b[39m: year,\n\u001b[0;32m   (...)\u001b[0m\n\u001b[1;32m    228\u001b[0m     (\u001b[38;5;28;01mTrue\u001b[39;00m, \u001b[38;5;28;01mTrue\u001b[39;00m, \u001b[38;5;28;01mTrue\u001b[39;00m, \u001b[38;5;28;01mTrue\u001b[39;00m): {\u001b[38;5;124m\"\u001b[39m\u001b[38;5;124mstart\u001b[39m\u001b[38;5;124m\"\u001b[39m: year, \u001b[38;5;124m\"\u001b[39m\u001b[38;5;124mend\u001b[39m\u001b[38;5;124m\"\u001b[39m: year \u001b[38;5;241m+\u001b[39m duration},\n\u001b[1;32m    229\u001b[0m }\n\u001b[0;32m--> 231\u001b[0m avg_start \u001b[38;5;241m=\u001b[39m time_parameters[\n\u001b[1;32m    232\u001b[0m     \u001b[38;5;28mbool\u001b[39m(range_time), \u001b[38;5;28mbool\u001b[39m(duration), \u001b[38;5;28mbool\u001b[39m(foresight), \u001b[38;5;28mbool\u001b[39m(lead_time)\n\u001b[1;32m    233\u001b[0m ][\u001b[38;5;124m\"\u001b[39m\u001b[38;5;124mstart\u001b[39m\u001b[38;5;124m\"\u001b[39m]\n\u001b[1;32m    234\u001b[0m avg_end \u001b[38;5;241m=\u001b[39m time_parameters[\n\u001b[1;32m    235\u001b[0m     \u001b[38;5;28mbool\u001b[39m(range_time), \u001b[38;5;28mbool\u001b[39m(duration), \u001b[38;5;28mbool\u001b[39m(foresight), \u001b[38;5;28mbool\u001b[39m(lead_time)\n\u001b[1;32m    236\u001b[0m ][\u001b[38;5;124m\"\u001b[39m\u001b[38;5;124mend\u001b[39m\u001b[38;5;124m\"\u001b[39m]\n\u001b[1;32m    238\u001b[0m \u001b[38;5;66;03m# Now that we do know the start year of the time interval,\u001b[39;00m\n\u001b[1;32m    239\u001b[0m \u001b[38;5;66;03m# we can use this to \"more accurately\" calculate the current shares\u001b[39;00m\n",
      "\u001b[0;31mKeyError\u001b[0m: (True, False, False, False)"
     ]
    }
   ],
   "source": [
    "ndb = NewDatabase(\n",
    "    scenarios = [\n",
    "        {\"model\":\"image\", \"pathway\":\"SSP2-RCP26\", \"year\":2055,},\n",
    "        #{\"model\":\"image\", \"pathway\":\"SSP2-RCP26\", \"year\":2040,},\n",
    "        #{\"model\":\"image\", \"pathway\":\"SSP2-RCP19\", \"year\":2040,},\n",
    "    ],        \n",
    "    source_db=\"ecoinvent 3.8 cutoff\",\n",
    "    source_version=\"3.8\",\n",
    "    key='tUePmX_S5B8ieZkkM7WUU2CnO8SmShwmAeWK9x2rTFo=',\n",
    "    system_model=\"consequential\",\n",
    "    system_args=args\n",
    ")"
   ]
  },
  {
   "cell_type": "code",
   "execution_count": null,
   "id": "7fc169db-6cd0-4f4a-b070-350e3eab8c16",
   "metadata": {},
   "outputs": [],
   "source": [
    "di = {(True, True, True, False): {\"year\":10, \"avg\": 5}}"
   ]
  },
  {
   "cell_type": "code",
   "execution_count": 13,
   "id": "a49f6ed3-7e3d-41ff-adf6-4ef5c5d77a3e",
   "metadata": {},
   "outputs": [
    {
     "data": {
      "text/plain": [
       "{'year': 10, 'avg': 5}"
      ]
     },
     "execution_count": 13,
     "metadata": {},
     "output_type": "execute_result"
    }
   ],
   "source": [
    "a = 2\n",
    "b = 3\n",
    "c = 4\n",
    "d = None\n",
    "di[(bool(a), bool(b), bool(c), bool(d))]"
   ]
  },
  {
   "cell_type": "code",
   "execution_count": 14,
   "id": "1ea35568-09d8-431e-9a6a-fc903143e385",
   "metadata": {},
   "outputs": [
    {
     "data": {
      "text/plain": [
       "array([0, 2, 3, 0, 0, 0, 0, 0])"
      ]
     },
     "execution_count": 14,
     "metadata": {},
     "output_type": "execute_result"
    }
   ],
   "source": [
    "import numpy as np\n",
    "\n",
    "a = np.array([1, 2, 3, 4, 5, 6, 7, 6])\n",
    "\n",
    "np.where((a > 1)&(a < 4), a, 0)"
   ]
  },
  {
   "cell_type": "code",
   "execution_count": null,
   "id": "d2e1941f-4803-4613-bb07-b8fb12ed7d48",
   "metadata": {},
   "outputs": [],
   "source": []
  }
 ],
 "metadata": {
  "kernelspec": {
   "display_name": "Python 3 (ipykernel)",
   "language": "python",
   "name": "python3"
  },
  "language_info": {
   "codemirror_mode": {
    "name": "ipython",
    "version": 3
   },
   "file_extension": ".py",
   "mimetype": "text/x-python",
   "name": "python",
   "nbconvert_exporter": "python",
   "pygments_lexer": "ipython3",
   "version": "3.9.12"
  }
 },
 "nbformat": 4,
 "nbformat_minor": 5
}
