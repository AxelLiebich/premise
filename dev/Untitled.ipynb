{
 "cells": [
  {
   "cell_type": "code",
   "execution_count": 60,
   "id": "94bc460b-26ea-45f1-b58e-67d27de516bc",
   "metadata": {},
   "outputs": [
    {
     "name": "stdout",
     "output_type": "stream",
     "text": [
      "The autoreload extension is already loaded. To reload it, use:\n",
      "  %reload_ext autoreload\n"
     ]
    }
   ],
   "source": [
    "%load_ext autoreload\n",
    "%autoreload 2"
   ]
  },
  {
   "cell_type": "code",
   "execution_count": 61,
   "id": "6d93e33a-b89e-4e56-bfb7-5a8a0a232053",
   "metadata": {},
   "outputs": [],
   "source": [
    "from premise import *\n",
    "import brightway2 as bw\n",
    "bw.projects.set_current(\"premise\")"
   ]
  },
  {
   "cell_type": "code",
   "execution_count": 62,
   "id": "b8d3b9ac-4b32-4ec4-856d-ea58b6f9900a",
   "metadata": {},
   "outputs": [
    {
     "name": "stdout",
     "output_type": "stream",
     "text": [
      "+------------------------------------------------------------------+\n",
      "| Warning                                                          |\n",
      "+------------------------------------------------------------------+\n",
      "| Because some of the scenarios can yield LCI databases            |\n",
      "| containing net negative emission technologies (NET),             |\n",
      "| it is advised to account for biogenic CO2 flows when calculating |\n",
      "| Global Warming potential indicators.                             |\n",
      "| `premise_gwp` provides characterization factors for such flows.  |\n",
      "|                                                                  |\n",
      "| Within your bw2 project:                                         |\n",
      "| from premise_gwp import add_premise_gwp                          |\n",
      "| add_premise_gwp()                                                |\n",
      "+------------------------------------------------------------------+\n",
      "\n",
      "////////////////////// EXTRACTING SOURCE DATABASE //////////////////\n",
      "Done!\n",
      "\n",
      "//////////////////// IMPORTING DEFAULT INVENTORIES /////////////////\n",
      "Done!\n",
      "\n",
      "///////////////////////// EXTRACTING IAM DATA //////////////////////\n",
      "Done!\n"
     ]
    }
   ],
   "source": [
    "ndb = NewDatabase(\n",
    "    scenarios = [\n",
    "        {\"model\":\"image\", \"pathway\":\"SSP2-RCP26\", \"year\":2055,},\n",
    "        #{\"model\":\"image\", \"pathway\":\"SSP2-RCP26\", \"year\":2040,},\n",
    "        #{\"model\":\"image\", \"pathway\":\"SSP2-RCP19\", \"year\":2040,},\n",
    "    ],        \n",
    "    source_db=\"ecoinvent 3.8 cutoff\",\n",
    "    source_version=\"3.8\",\n",
    "    key='tUePmX_S5B8ieZkkM7WUU2CnO8SmShwmAeWK9x2rTFo=',\n",
    "    system_model=\"consequential\"\n",
    ")"
   ]
  },
  {
   "cell_type": "code",
   "execution_count": null,
   "id": "7fc169db-6cd0-4f4a-b070-350e3eab8c16",
   "metadata": {},
   "outputs": [],
   "source": [
    "di = {(True, True, True, False): {\"year\":10, \"avg\": 5}}"
   ]
  },
  {
   "cell_type": "code",
   "execution_count": 13,
   "id": "a49f6ed3-7e3d-41ff-adf6-4ef5c5d77a3e",
   "metadata": {},
   "outputs": [
    {
     "data": {
      "text/plain": [
       "{'year': 10, 'avg': 5}"
      ]
     },
     "execution_count": 13,
     "metadata": {},
     "output_type": "execute_result"
    }
   ],
   "source": [
    "a = 2\n",
    "b = 3\n",
    "c = 4\n",
    "d = None\n",
    "di[(bool(a), bool(b), bool(c), bool(d))]"
   ]
  },
  {
   "cell_type": "code",
   "execution_count": null,
   "id": "1ea35568-09d8-431e-9a6a-fc903143e385",
   "metadata": {},
   "outputs": [],
   "source": []
  }
 ],
 "metadata": {
  "kernelspec": {
   "display_name": "Python 3 (ipykernel)",
   "language": "python",
   "name": "python3"
  },
  "language_info": {
   "codemirror_mode": {
    "name": "ipython",
    "version": 3
   },
   "file_extension": ".py",
   "mimetype": "text/x-python",
   "name": "python",
   "nbconvert_exporter": "python",
   "pygments_lexer": "ipython3",
   "version": "3.9.12"
  }
 },
 "nbformat": 4,
 "nbformat_minor": 5
}
