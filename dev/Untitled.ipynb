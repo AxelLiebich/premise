{
 "cells": [
  {
   "cell_type": "code",
   "execution_count": 1,
   "id": "6d93e33a-b89e-4e56-bfb7-5a8a0a232053",
   "metadata": {},
   "outputs": [],
   "source": [
    "from premise import *\n",
    "import brightway2 as bw\n",
    "bw.projects.set_current(\"ei39\")"
   ]
  },
  {
   "cell_type": "code",
   "execution_count": 2,
   "id": "10b37313-f780-4102-a6d4-7a813dad9d3f",
   "metadata": {},
   "outputs": [],
   "source": [
    "scenarios = [\n",
    "    #{\"model\": \"image\", \"pathway\":\"SSP1-RCP19\", \"year\": 2050, \"filepath\":\"/Users/romain/Documents\"},\n",
    "    {\"model\": \"image\", \"pathway\":\"SSP2-Base\", \"year\": 2050,},\n",
    "    {\"model\": \"image\", \"pathway\":\"SSP2-RCP26\", \"year\": 2050,},\n",
    "    {\"model\": \"image\", \"pathway\":\"SSP2-RCP19\", \"year\": 2050,},\n",
    "    #{\"model\": \"remind\", \"pathway\":\"SSP1-PkBudg500\", \"year\": 2050,},\n",
    "]"
   ]
  },
  {
   "cell_type": "code",
   "execution_count": 3,
   "id": "bc61f1aa-81d4-4a83-b7c5-0b10ad1a5b65",
   "metadata": {},
   "outputs": [
    {
     "name": "stdout",
     "output_type": "stream",
     "text": [
      "premise v.(1, 5, 3)\n",
      "+------------------------------------------------------------------+\n",
      "| Warning                                                          |\n",
      "+------------------------------------------------------------------+\n",
      "| Because some of the scenarios can yield LCI databases            |\n",
      "| containing net negative emission technologies (NET),             |\n",
      "| it is advised to account for biogenic CO2 flows when calculating |\n",
      "| Global Warming potential indicators.                             |\n",
      "| `premise_gwp` provides characterization factors for such flows.  |\n",
      "| It also provides factors for hydrogen emissions to air.          |\n",
      "|                                                                  |\n",
      "| Within your bw2 project:                                         |\n",
      "| from premise_gwp import add_premise_gwp                          |\n",
      "| add_premise_gwp()                                                |\n",
      "+------------------------------------------------------------------+\n",
      "+--------------------------------+----------------------------------+\n",
      "| Utils functions                | Description                      |\n",
      "+--------------------------------+----------------------------------+\n",
      "| clear_cache()                  | Clears the cache folder. Useful  |\n",
      "|                                | when updating `premise`or        |\n",
      "|                                | encountering issues with         |\n",
      "|                                | inventories.                     |\n",
      "+--------------------------------+----------------------------------+\n",
      "| get_regions_definition(model)  | Retrieves the list of countries  |\n",
      "|                                | for each region of the model.    |\n",
      "+--------------------------------+----------------------------------+\n",
      "| ndb.NewDatabase(...)           | Generates a summary of the most  |\n",
      "| ndb.generate_scenario_report() | important scenarios' variables.  |\n",
      "+--------------------------------+----------------------------------+\n",
      "Keep uncertainty data?\n",
      "NewDatabase(..., keep_uncertainty_data=True)\n",
      "\n",
      "Hide these messages?\n",
      "NewDatabase(..., quiet=True)\n",
      "\n",
      "//////////////////// EXTRACTING SOURCE DATABASE ////////////////////\n",
      "Done!\n",
      "\n",
      "////////////////// IMPORTING DEFAULT INVENTORIES ///////////////////\n",
      "Done!\n",
      "\n",
      "/////////////////////// EXTRACTING IAM DATA ////////////////////////\n",
      "Done!\n"
     ]
    }
   ],
   "source": [
    "ndb = NewDatabase(\n",
    "        scenarios = scenarios,\n",
    "        source_db= \"ecoinvent 3.9.1 cutoff\",\n",
    "        source_version=\"3.9.1\",\n",
    "        #source_type=source,\n",
    "        #source_file_path=f\"/Users/romain/Documents/ecoinvent {ei}_cutoff_ecoSpold02/datasets\" if source == \"ecospold\" else None, # <-- this is NEW\n",
    "        #source_version=ei,\n",
    "        key='tUePmX_S5B8ieZkkM7WUU2CnO8SmShwmAeWK9x2rTFo=',\n",
    "        #system_model=\"cutoff\",\n",
    "        #system_args=combinations[0]\n",
    ")"
   ]
  },
  {
   "cell_type": "code",
   "execution_count": 4,
   "id": "70f95185-e3ff-4f22-9ce3-63f850add440",
   "metadata": {},
   "outputs": [
    {
     "name": "stdout",
     "output_type": "stream",
     "text": [
      "Generate scenario report.\n",
      "Report saved under /Users/romain/GitHub/premise/dev/export/scenario_report.\n"
     ]
    }
   ],
   "source": [
    "ndb.generate_scenario_report()"
   ]
  },
  {
   "cell_type": "code",
   "execution_count": 4,
   "id": "81d6b1e8-5452-4615-9816-7ab657e80c90",
   "metadata": {},
   "outputs": [
    {
     "data": {
      "text/html": [
       "<div>\n",
       "<style scoped>\n",
       "    .dataframe tbody tr th:only-of-type {\n",
       "        vertical-align: middle;\n",
       "    }\n",
       "\n",
       "    .dataframe tbody tr th {\n",
       "        vertical-align: top;\n",
       "    }\n",
       "\n",
       "    .dataframe thead th {\n",
       "        text-align: right;\n",
       "    }\n",
       "</style>\n",
       "<table border=\"1\" class=\"dataframe\">\n",
       "  <thead>\n",
       "    <tr style=\"text-align: right;\">\n",
       "      <th></th>\n",
       "      <th>region</th>\n",
       "      <th>year</th>\n",
       "      <th>val</th>\n",
       "    </tr>\n",
       "    <tr>\n",
       "      <th>variables</th>\n",
       "      <th></th>\n",
       "      <th></th>\n",
       "      <th></th>\n",
       "    </tr>\n",
       "  </thead>\n",
       "  <tbody>\n",
       "    <tr>\n",
       "      <th>bioethanol, wood</th>\n",
       "      <td>USA</td>\n",
       "      <td>2050</td>\n",
       "      <td>0.16</td>\n",
       "    </tr>\n",
       "    <tr>\n",
       "      <th>bioethanol, grass</th>\n",
       "      <td>USA</td>\n",
       "      <td>2050</td>\n",
       "      <td>0.21</td>\n",
       "    </tr>\n",
       "  </tbody>\n",
       "</table>\n",
       "</div>"
      ],
      "text/plain": [
       "                  region  year   val\n",
       "variables                           \n",
       "bioethanol, wood     USA  2050  0.16\n",
       "bioethanol, grass    USA  2050  0.21"
      ]
     },
     "execution_count": 4,
     "metadata": {},
     "output_type": "execute_result"
    }
   ],
   "source": [
    "ndb.scenarios[1][\"iam data\"].production_volumes.sel(region=\"USA\", year=2050, variables=[\n",
    "    \"bioethanol, wood\",\n",
    "    \"bioethanol, grass\",\n",
    "]).to_dataframe(\"val\")"
   ]
  },
  {
   "cell_type": "code",
   "execution_count": null,
   "id": "513840ab-5297-459c-9c67-7fea115ee4ab",
   "metadata": {},
   "outputs": [],
   "source": []
  },
  {
   "cell_type": "code",
   "execution_count": 90,
   "id": "e66dcccd-6643-4a18-a86b-2a1760c55e5b",
   "metadata": {},
   "outputs": [],
   "source": [
    "years=ndb.scenarios[1][\"iam data\"].production_volumes.year.values\n",
    "data = ndb.scenarios[1][\"iam data\"].production_volumes.to_dataframe(\"val\").unstack()[\"val\"].reset_index().melt(id_vars=[\"region\", \"variables\"],value_vars=years)"
   ]
  },
  {
   "cell_type": "code",
   "execution_count": 91,
   "id": "073f5ac2-e5e9-4d40-ae82-40c3d0975f3d",
   "metadata": {},
   "outputs": [],
   "source": [
    "data = data.loc[data[\"variables\"].str.contains(\"bioethanol\")]"
   ]
  },
  {
   "cell_type": "code",
   "execution_count": 112,
   "id": "f8fd1790-aba3-413f-9aaa-e8231b8f7e5a",
   "metadata": {},
   "outputs": [
    {
     "name": "stderr",
     "output_type": "stream",
     "text": [
      "/var/folders/cn/pys1j9rn0y7djkhv3hfdtrs00000gn/T/ipykernel_6189/2255775072.py:1: FutureWarning: The default value of numeric_only in DataFrameGroupBy.sum is deprecated. In a future version, numeric_only will default to False. Either specify numeric_only or select only columns which should be valid for the function.\n",
      "  data.loc[data[\"region\"]==region].groupby([\"year\", \"variables\"]).sum().unstack()[\"value\"].cumsum()/11.45*100\n"
     ]
    },
    {
     "data": {
      "text/html": [
       "<div>\n",
       "<style scoped>\n",
       "    .dataframe tbody tr th:only-of-type {\n",
       "        vertical-align: middle;\n",
       "    }\n",
       "\n",
       "    .dataframe tbody tr th {\n",
       "        vertical-align: top;\n",
       "    }\n",
       "\n",
       "    .dataframe thead th {\n",
       "        text-align: right;\n",
       "    }\n",
       "</style>\n",
       "<table border=\"1\" class=\"dataframe\">\n",
       "  <thead>\n",
       "    <tr style=\"text-align: right;\">\n",
       "      <th>variables</th>\n",
       "      <th>bioethanol, grain</th>\n",
       "      <th>bioethanol, grain, with CCS</th>\n",
       "      <th>bioethanol, grass</th>\n",
       "      <th>bioethanol, grass, with CCS</th>\n",
       "      <th>bioethanol, sugar</th>\n",
       "      <th>bioethanol, sugar, with CCS</th>\n",
       "      <th>bioethanol, wood</th>\n",
       "      <th>bioethanol, wood, with CCS</th>\n",
       "    </tr>\n",
       "    <tr>\n",
       "      <th>year</th>\n",
       "      <th></th>\n",
       "      <th></th>\n",
       "      <th></th>\n",
       "      <th></th>\n",
       "      <th></th>\n",
       "      <th></th>\n",
       "      <th></th>\n",
       "      <th></th>\n",
       "    </tr>\n",
       "  </thead>\n",
       "  <tbody>\n",
       "    <tr>\n",
       "      <th>2005</th>\n",
       "      <td>0.000000</td>\n",
       "      <td>0.0</td>\n",
       "      <td>0.000000</td>\n",
       "      <td>0.000000</td>\n",
       "      <td>1.397380</td>\n",
       "      <td>0.000000</td>\n",
       "      <td>0.000000</td>\n",
       "      <td>0.000000</td>\n",
       "    </tr>\n",
       "    <tr>\n",
       "      <th>2010</th>\n",
       "      <td>0.000000</td>\n",
       "      <td>0.0</td>\n",
       "      <td>0.000000</td>\n",
       "      <td>0.000000</td>\n",
       "      <td>5.414847</td>\n",
       "      <td>0.000000</td>\n",
       "      <td>0.000000</td>\n",
       "      <td>0.000000</td>\n",
       "    </tr>\n",
       "    <tr>\n",
       "      <th>2015</th>\n",
       "      <td>0.000000</td>\n",
       "      <td>0.0</td>\n",
       "      <td>0.000000</td>\n",
       "      <td>0.000000</td>\n",
       "      <td>10.480349</td>\n",
       "      <td>0.000000</td>\n",
       "      <td>0.000000</td>\n",
       "      <td>0.000000</td>\n",
       "    </tr>\n",
       "    <tr>\n",
       "      <th>2020</th>\n",
       "      <td>0.000000</td>\n",
       "      <td>0.0</td>\n",
       "      <td>0.000000</td>\n",
       "      <td>0.000000</td>\n",
       "      <td>15.633188</td>\n",
       "      <td>0.000000</td>\n",
       "      <td>0.000000</td>\n",
       "      <td>0.000000</td>\n",
       "    </tr>\n",
       "    <tr>\n",
       "      <th>2025</th>\n",
       "      <td>0.262009</td>\n",
       "      <td>0.0</td>\n",
       "      <td>0.087336</td>\n",
       "      <td>0.000000</td>\n",
       "      <td>21.921397</td>\n",
       "      <td>0.000000</td>\n",
       "      <td>0.174672</td>\n",
       "      <td>0.000000</td>\n",
       "    </tr>\n",
       "    <tr>\n",
       "      <th>2030</th>\n",
       "      <td>0.524017</td>\n",
       "      <td>0.0</td>\n",
       "      <td>0.349345</td>\n",
       "      <td>0.174672</td>\n",
       "      <td>34.061135</td>\n",
       "      <td>4.628821</td>\n",
       "      <td>0.436681</td>\n",
       "      <td>0.174672</td>\n",
       "    </tr>\n",
       "    <tr>\n",
       "      <th>2035</th>\n",
       "      <td>0.698690</td>\n",
       "      <td>0.0</td>\n",
       "      <td>0.873362</td>\n",
       "      <td>0.611354</td>\n",
       "      <td>45.327511</td>\n",
       "      <td>11.877729</td>\n",
       "      <td>0.960699</td>\n",
       "      <td>0.611354</td>\n",
       "    </tr>\n",
       "    <tr>\n",
       "      <th>2040</th>\n",
       "      <td>0.960699</td>\n",
       "      <td>0.0</td>\n",
       "      <td>1.921397</td>\n",
       "      <td>1.397380</td>\n",
       "      <td>52.838428</td>\n",
       "      <td>17.379913</td>\n",
       "      <td>1.746725</td>\n",
       "      <td>1.397380</td>\n",
       "    </tr>\n",
       "    <tr>\n",
       "      <th>2045</th>\n",
       "      <td>1.222707</td>\n",
       "      <td>0.0</td>\n",
       "      <td>3.318777</td>\n",
       "      <td>2.620087</td>\n",
       "      <td>56.943231</td>\n",
       "      <td>20.873362</td>\n",
       "      <td>2.794760</td>\n",
       "      <td>2.532751</td>\n",
       "    </tr>\n",
       "    <tr>\n",
       "      <th>2050</th>\n",
       "      <td>1.397380</td>\n",
       "      <td>0.0</td>\n",
       "      <td>4.978166</td>\n",
       "      <td>4.192140</td>\n",
       "      <td>58.951965</td>\n",
       "      <td>22.794760</td>\n",
       "      <td>3.930131</td>\n",
       "      <td>3.842795</td>\n",
       "    </tr>\n",
       "    <tr>\n",
       "      <th>2060</th>\n",
       "      <td>1.484716</td>\n",
       "      <td>0.0</td>\n",
       "      <td>6.288210</td>\n",
       "      <td>5.764192</td>\n",
       "      <td>60.174672</td>\n",
       "      <td>24.279476</td>\n",
       "      <td>4.890830</td>\n",
       "      <td>5.065502</td>\n",
       "    </tr>\n",
       "    <tr>\n",
       "      <th>2070</th>\n",
       "      <td>1.572052</td>\n",
       "      <td>0.0</td>\n",
       "      <td>7.336245</td>\n",
       "      <td>7.860262</td>\n",
       "      <td>61.048035</td>\n",
       "      <td>26.113537</td>\n",
       "      <td>5.414847</td>\n",
       "      <td>6.637555</td>\n",
       "    </tr>\n",
       "    <tr>\n",
       "      <th>2080</th>\n",
       "      <td>1.659389</td>\n",
       "      <td>0.0</td>\n",
       "      <td>8.209607</td>\n",
       "      <td>10.043668</td>\n",
       "      <td>61.572052</td>\n",
       "      <td>27.860262</td>\n",
       "      <td>5.851528</td>\n",
       "      <td>8.384279</td>\n",
       "    </tr>\n",
       "    <tr>\n",
       "      <th>2090</th>\n",
       "      <td>1.746725</td>\n",
       "      <td>0.0</td>\n",
       "      <td>9.082969</td>\n",
       "      <td>13.013100</td>\n",
       "      <td>61.834061</td>\n",
       "      <td>29.170306</td>\n",
       "      <td>6.288210</td>\n",
       "      <td>10.393013</td>\n",
       "    </tr>\n",
       "    <tr>\n",
       "      <th>2100</th>\n",
       "      <td>1.834061</td>\n",
       "      <td>0.0</td>\n",
       "      <td>9.868996</td>\n",
       "      <td>14.847162</td>\n",
       "      <td>62.183406</td>\n",
       "      <td>30.480349</td>\n",
       "      <td>6.899563</td>\n",
       "      <td>12.401747</td>\n",
       "    </tr>\n",
       "  </tbody>\n",
       "</table>\n",
       "</div>"
      ],
      "text/plain": [
       "variables  bioethanol, grain  bioethanol, grain, with CCS  bioethanol, grass  \\\n",
       "year                                                                           \n",
       "2005                0.000000                          0.0           0.000000   \n",
       "2010                0.000000                          0.0           0.000000   \n",
       "2015                0.000000                          0.0           0.000000   \n",
       "2020                0.000000                          0.0           0.000000   \n",
       "2025                0.262009                          0.0           0.087336   \n",
       "2030                0.524017                          0.0           0.349345   \n",
       "2035                0.698690                          0.0           0.873362   \n",
       "2040                0.960699                          0.0           1.921397   \n",
       "2045                1.222707                          0.0           3.318777   \n",
       "2050                1.397380                          0.0           4.978166   \n",
       "2060                1.484716                          0.0           6.288210   \n",
       "2070                1.572052                          0.0           7.336245   \n",
       "2080                1.659389                          0.0           8.209607   \n",
       "2090                1.746725                          0.0           9.082969   \n",
       "2100                1.834061                          0.0           9.868996   \n",
       "\n",
       "variables  bioethanol, grass, with CCS  bioethanol, sugar  \\\n",
       "year                                                        \n",
       "2005                          0.000000           1.397380   \n",
       "2010                          0.000000           5.414847   \n",
       "2015                          0.000000          10.480349   \n",
       "2020                          0.000000          15.633188   \n",
       "2025                          0.000000          21.921397   \n",
       "2030                          0.174672          34.061135   \n",
       "2035                          0.611354          45.327511   \n",
       "2040                          1.397380          52.838428   \n",
       "2045                          2.620087          56.943231   \n",
       "2050                          4.192140          58.951965   \n",
       "2060                          5.764192          60.174672   \n",
       "2070                          7.860262          61.048035   \n",
       "2080                         10.043668          61.572052   \n",
       "2090                         13.013100          61.834061   \n",
       "2100                         14.847162          62.183406   \n",
       "\n",
       "variables  bioethanol, sugar, with CCS  bioethanol, wood  \\\n",
       "year                                                       \n",
       "2005                          0.000000          0.000000   \n",
       "2010                          0.000000          0.000000   \n",
       "2015                          0.000000          0.000000   \n",
       "2020                          0.000000          0.000000   \n",
       "2025                          0.000000          0.174672   \n",
       "2030                          4.628821          0.436681   \n",
       "2035                         11.877729          0.960699   \n",
       "2040                         17.379913          1.746725   \n",
       "2045                         20.873362          2.794760   \n",
       "2050                         22.794760          3.930131   \n",
       "2060                         24.279476          4.890830   \n",
       "2070                         26.113537          5.414847   \n",
       "2080                         27.860262          5.851528   \n",
       "2090                         29.170306          6.288210   \n",
       "2100                         30.480349          6.899563   \n",
       "\n",
       "variables  bioethanol, wood, with CCS  \n",
       "year                                   \n",
       "2005                         0.000000  \n",
       "2010                         0.000000  \n",
       "2015                         0.000000  \n",
       "2020                         0.000000  \n",
       "2025                         0.000000  \n",
       "2030                         0.174672  \n",
       "2035                         0.611354  \n",
       "2040                         1.397380  \n",
       "2045                         2.532751  \n",
       "2050                         3.842795  \n",
       "2060                         5.065502  \n",
       "2070                         6.637555  \n",
       "2080                         8.384279  \n",
       "2090                        10.393013  \n",
       "2100                        12.401747  "
      ]
     },
     "execution_count": 112,
     "metadata": {},
     "output_type": "execute_result"
    }
   ],
   "source": [
    "data.loc[data[\"region\"]==region].groupby([\"year\", \"variables\"]).sum().unstack()[\"value\"].cumsum()/11.45*100"
   ]
  },
  {
   "cell_type": "code",
   "execution_count": 111,
   "id": "a7dea621-0ba0-4faf-98ec-995d0b39416e",
   "metadata": {},
   "outputs": [
    {
     "data": {
      "text/plain": [
       "11.459999999999999"
      ]
     },
     "execution_count": 111,
     "metadata": {},
     "output_type": "execute_result"
    }
   ],
   "source": [
    "(0.16+0.0+0.57+0.48+6.75+2.61+0.45+0.44)"
   ]
  },
  {
   "cell_type": "code",
   "execution_count": 88,
   "id": "2a1aa42a-1dda-467c-ba57-e3773a775944",
   "metadata": {},
   "outputs": [
    {
     "data": {
      "image/png": "[encoded data removed]",
      "text/plain": [
       "<Figure size 720x1800 with 26 Axes>"
      ]
     },
     "metadata": {
      "needs_background": "light"
     },
     "output_type": "display_data"
    }
   ],
   "source": [
    "import matplotlib.pyplot as plt\n",
    "import numpy as np\n",
    "\n",
    "fig, axs = plt.subplots(13, 2, figsize=(10, 25))  # create a grid of 5x6 subplots\n",
    "fig.tight_layout(pad=3.0)  # add padding between subplots for clarity\n",
    "\n",
    "# Flatten the array of axes to easily iterate over it\n",
    "axs = axs.flatten()\n",
    "\n",
    "for i, ax in enumerate(axs[:26]):\n",
    "    region = data[\"region\"].unique()[i]\n",
    "    data.loc[data[\"region\"]==region].groupby([\"region\", \"year\", \"variables\"]).sum().unstack()[\"value\"].plot(kind=\"area\", ax=ax)\n",
    "    ax.set_title(region)\n",
    "    ax.set_xlabel(None)\n",
    "    ax.set_xticks(range(0, 15))\n",
    "    ax.set_ylim(0, 2.5)\n",
    "    ax.set_xticklabels([2005, 2010, 2015, 2020, 2025, 2030, 2035, 2040, 2045, 2050, 2060, 2070, 2080, 2090, 2100], fontsize=7)\n",
    "    ax.legend(ncol=4, bbox_to_anchor=(2.5, 1.7))\n",
    "    if i != 0:\n",
    "        ax.legend().remove()\n",
    "fig.savefig(\"/Users/romain/Library/CloudStorage/Dropbox/Notebooks/biofuels NREL-IMAGE/SSP2-RCP26.png\", dpi=150, bbox_inches='tight')\n",
    "        "
   ]
  },
  {
   "cell_type": "code",
   "execution_count": 4,
   "id": "c7b54985-0f01-4bea-b19a-cbb655a88084",
   "metadata": {},
   "outputs": [],
   "source": [
    "from premise.activity_maps import InventorySet\n",
    "inv = InventorySet(ndb.database, \"3.9\")"
   ]
  },
  {
   "cell_type": "code",
   "execution_count": 5,
   "id": "a54f1930-02ac-4de9-aaab-4eb14efa978f",
   "metadata": {},
   "outputs": [
    {
     "data": {
      "text/plain": [
       "{'Dysprosium': {'Dysprosium'},\n",
       " 'Neodymium': {'Neodymium, 4% in bastnasite, 0.4% in crude ore'},\n",
       " 'Nickel': {'Nickel',\n",
       "  'Nickel, 1.13% in sulfide, Ni 0.76% and Cu 0.76% in crude ore',\n",
       "  'Nickel, 1.98% in silicates, 1.04% in crude ore',\n",
       "  'Nickel, Ni 2.5E+0%, in mixed ore'},\n",
       " 'Manganese': {'Manganese',\n",
       "  'Manganese, 35.7% in sedimentary deposit, 14.2% in crude ore'},\n",
       " 'Yttrium': {'Yttrium'},\n",
       " 'Vanadium': {'Vanadium'},\n",
       " 'Cobalt': {'Cobalt', 'Cobalt, Co 5.0E-2%, in mixed ore'},\n",
       " 'Lithium': {'Lithium', 'Lithium, 0.15% in brine'},\n",
       " 'Sulfur': {'Sulfur'},\n",
       " 'Platinum': {'Platinum', 'Platinum, Pt 4.7E-7%, in mixed ore'},\n",
       " 'Cerium': {'Cerium', 'Cerium, 24% in bastnasite, 2.4% in crude ore'},\n",
       " 'Lanthanum': {'Lanthanum',\n",
       "  'Lanthanum, 7.2% in bastnasite, 0.72% in crude ore'},\n",
       " 'Zirconium': {'Zirconium', 'Zirconium, 50% in zircon, 0.39% in crude ore'},\n",
       " 'Gadolinium': {'Gadolinium',\n",
       "  'Gadolinium, 0.15% in bastnasite, 0.015% in crude ore'},\n",
       " 'Scandium': {'Scandium'},\n",
       " 'Strontium': {'Strontium'},\n",
       " 'Potassium': {'Potassium'},\n",
       " 'Iridium': {'Iridium'},\n",
       " 'Silver': {'Silver',\n",
       "  'Silver, 0.007% in sulfide, Ag 0.004%, Pb, Zn, Cd, In',\n",
       "  'Silver, 0.01% in crude ore',\n",
       "  'Silver, 3.2ppm in sulfide, Ag 1.2ppm, Cu and Te, in crude ore',\n",
       "  'Silver, Ag 1.5E-4%, Au 6.8E-4%, in ore',\n",
       "  'Silver, Ag 1.5E-5%, Au 5.4E-4%, in ore',\n",
       "  'Silver, Ag 1.8E-6%, in mixed ore',\n",
       "  'Silver, Ag 2.1E-4%, Au 2.1E-4%, in ore',\n",
       "  'Silver, Ag 4.2E-3%, Au 1.1E-4%, in ore',\n",
       "  'Silver, Ag 4.6E-5%, Au 1.3E-4%, in ore',\n",
       "  'Silver, Ag 5.4E-3%, in mixed ore',\n",
       "  'Silver, Ag 7.6E-5%, Au 9.7E-5%, in ore',\n",
       "  'Silver, Ag 9.7E-4%, in mixed ore'},\n",
       " 'Germanium': {'Germanium'},\n",
       " 'Indium': {'Indium', 'Indium, 0.005% in sulfide, In 0.003%, Pb, Zn, Ag, Cd'},\n",
       " 'Gallium': {'Gallium', 'Gallium, 0.014% in bauxite'},\n",
       " 'Selenium': {'Selenium'},\n",
       " 'Cadmium': {'Cadmium', 'Cadmium, 0.30% in sulfide, Cd 0.18%, Pb, Zn, Ag, In'},\n",
       " 'Tellurium': {'Tellurium',\n",
       "  'Tellurium, 0.5ppm in sulfide, Te 0.2ppm, Cu and Ag, in crude ore'}}"
      ]
     },
     "execution_count": 5,
     "metadata": {},
     "output_type": "execute_result"
    }
   ],
   "source": [
    "inv.generate_metals_map()"
   ]
  },
  {
   "cell_type": "code",
   "execution_count": 6,
   "id": "daa5d530-fbfc-470c-a06b-0e9103860aa3",
   "metadata": {},
   "outputs": [
    {
     "data": {
      "text/plain": [
       "{'Biomass CHP': {'heat and power co-generation, wood chips, 2000 kW',\n",
       "  'heat and power co-generation, wood chips, 2000 kW, state-of-the-art 2014',\n",
       "  'heat and power co-generation, wood chips, 6667 kW',\n",
       "  'heat and power co-generation, wood chips, 6667 kW, state-of-the-art 2014',\n",
       "  'heat and power co-generation, wood chips, 6667 kW, state-of-the-art 2014, renewable energy products'},\n",
       " 'Biomass CHP CCS': {'electricity production, at co-generation power plant/wood, post, pipeline 200km, storage 1000m',\n",
       "  'electricity production, at co-generation power plant/wood, post, pipeline 400km, storage 3000m'},\n",
       " 'Biomass ST': {'electricity production, at wood burning power plant 20 MW, truck 25km, no CCS'},\n",
       " 'Biomass IGCC CCS': {'electricity production, at BIGCC power plant, pre, pipeline 200km, storage 1000m',\n",
       "  'electricity production, at wood burning power plant 20 MW, truck 25km, post, pipeline 200km, storage 1000m'},\n",
       " 'Biomass IGCC': {'electricity production, at BIGCC power plant, no CCS'},\n",
       " 'Coal PC': {'electricity production, hard coal',\n",
       "  'electricity production, hard coal, at coal mine power plant',\n",
       "  'electricity production, hard coal, conventional',\n",
       "  'electricity production, hard coal, supercritical',\n",
       "  'electricity production, lignite'},\n",
       " 'Coal IGCC': {'electricity production, at power plant/hard coal, IGCC, no CCS',\n",
       "  'electricity production, at power plant/lignite, IGCC, no CCS'},\n",
       " 'Coal PC CCS': {'electricity production, at power plant/hard coal, post, pipeline 200km, storage 1000m',\n",
       "  'electricity production, at power plant/lignite, post, pipeline 200km, storage 1000m'},\n",
       " 'Coal IGCC CCS': {'electricity production, at power plant/hard coal, pre, pipeline 200km, storage 1000m',\n",
       "  'electricity production, at power plant/lignite, pre, pipeline 200km, storage 1000m'},\n",
       " 'Coal CHP': {'heat and power co-generation, hard coal',\n",
       "  'heat and power co-generation, lignite'},\n",
       " 'Coal CHP CCS': {'electricity production, at co-generation power plant/hard coal, oxy, pipeline 200km, storage 1000m',\n",
       "  'electricity production, at co-generation power plant/hard coal, oxy, pipeline 400km, storage 3000m',\n",
       "  'electricity production, at co-generation power plant/hard coal, post, pipeline 200km, storage 1000m',\n",
       "  'electricity production, at co-generation power plant/hard coal, post, pipeline 400km, storage 1000m',\n",
       "  'electricity production, at co-generation power plant/hard coal, post, pipeline 400km, storage 3000m'},\n",
       " 'Gas OC': {'electricity production, natural gas, conventional power plant'},\n",
       " 'Gas CC': {'electricity production, natural gas, combined cycle power plant'},\n",
       " 'Gas CHP': {'heat and power co-generation, natural gas, combined cycle power plant, 400MW electrical',\n",
       "  'heat and power co-generation, natural gas, conventional power plant, 100MW electrical'},\n",
       " 'Gas CHP CCS': {'electricity production, at co-generation power plant/natural gas, post, pipeline 200km, storage 1000m',\n",
       "  'electricity production, at co-generation power plant/natural gas, pre, pipeline 200km, storage 1000m'},\n",
       " 'Gas CC CCS': {'electricity production, at power plant/natural gas, post, pipeline 200km, storage 1000m',\n",
       "  'electricity production, at power plant/natural gas, post, pipeline 400km, storage 1000m',\n",
       "  'electricity production, at power plant/natural gas, post, pipeline 400km, storage 3000m',\n",
       "  'electricity production, at power plant/natural gas, pre, pipeline 200km, storage 1000m',\n",
       "  'electricity production, at power plant/natural gas, pre, pipeline 400km, storage 3000m'},\n",
       " 'Geothermal': {'electricity production, deep geothermal'},\n",
       " 'Hydro': {'electricity production, hydro, reservoir, alpine region',\n",
       "  'electricity production, hydro, reservoir, alpine region, renewable energy products',\n",
       "  'electricity production, hydro, reservoir, non-alpine region',\n",
       "  'electricity production, hydro, reservoir, tropical region',\n",
       "  'electricity production, hydro, run-of-river',\n",
       "  'electricity production, hydro, run-of-river, renewable energy products'},\n",
       " 'Nuclear': {'electricity production, nuclear, boiling water reactor',\n",
       "  'electricity production, nuclear, pressure water reactor',\n",
       "  'electricity production, nuclear, pressure water reactor, heavy water moderated'},\n",
       " 'Nuclear_EPR': {'electricity production, Evolutionary Power Reactor (EPR)'},\n",
       " 'Nuclear_SMR': {'electricity production, Small Modular Reactor (SMR)'},\n",
       " 'Oil ST': {'electricity production, oil'},\n",
       " 'Oil CC': {'electricity production, oil'},\n",
       " 'Oil CC CCS': {'electricity production, at co-generation power plant/oil, post, pipeline 200km, storage 1000m',\n",
       "  'electricity production, at co-generation power plant/oil, pre, pipeline 200km, storage 1000m'},\n",
       " 'Oil CHP': {'heat and power co-generation, oil'},\n",
       " 'Oil CHP CCS': {'electricity production, at co-generation power plant/oil, post, pipeline 200km, storage 1000m',\n",
       "  'electricity production, at co-generation power plant/oil, pre, pipeline 200km, storage 1000m'},\n",
       " 'Solar CSP': {'electricity production, solar thermal parabolic trough, 50 MW',\n",
       "  'electricity production, solar tower power plant, 20 MW'},\n",
       " 'Solar PV Centralized': {'electricity production, photovoltaic, commercial'},\n",
       " 'Solar PV Residential': {'electricity production, photovoltaic, residential'},\n",
       " 'Wind Onshore': {'electricity production, wind, 1-3MW turbine, onshore',\n",
       "  'electricity production, wind, 1-3MW turbine, onshore, renewable energy products',\n",
       "  'electricity production, wind, <1MW turbine, onshore',\n",
       "  'electricity production, wind, <1MW turbine, onshore, renewable energy products',\n",
       "  'electricity production, wind, >3MW turbine, onshore',\n",
       "  'electricity production, wind, >3MW turbine, onshore, renewable energy products'},\n",
       " 'Wind Offshore': {'electricity production, wind, 1-3MW turbine, offshore'},\n",
       " 'Wave': {'electricity production, wave energy converter'}}"
      ]
     },
     "execution_count": 6,
     "metadata": {},
     "output_type": "execute_result"
    }
   ],
   "source": [
    "inv.generate_powerplant_map()"
   ]
  },
  {
   "cell_type": "code",
   "execution_count": 8,
   "id": "2c8f798d-7404-4c6d-8764-ada72f72e42d",
   "metadata": {},
   "outputs": [
    {
     "data": {
      "text/plain": [
       "{'dac_solvent': {'carbon dioxide, captured from atmosphere, with a solvent-based direct air capture system, 1MtCO2'},\n",
       " 'dac_sorbent': {'carbon dioxide, captured from atmosphere, with a sorbent-based direct air capture system, 100ktCO2'},\n",
       " 'daccs_solvent': {'carbon dioxide, captured from atmosphere and stored, with a solvent-based direct air capture system, 1MtCO2'},\n",
       " 'daccs_sorbent': {'carbon dioxide, captured from atmosphere and stored, with a sorbent-based direct air capture system, 100ktCO2'}}"
      ]
     },
     "execution_count": 8,
     "metadata": {},
     "output_type": "execute_result"
    }
   ],
   "source": [
    "inv.generate_daccs_map()"
   ]
  },
  {
   "cell_type": "code",
   "execution_count": 5,
   "id": "5da69f1b-31f9-4687-b8e7-b48207dfae56",
   "metadata": {},
   "outputs": [
    {
     "name": "stdout",
     "output_type": "stream",
     "text": [
      "Write new database(s) to Brightway2.\n",
      "Prepare database 1.\n",
      "- check for duplicates...\n",
      "One or multiple duplicates detected. Removing them...\n",
      "- check for values format...\n",
      "- relinking exchanges...\n",
      "Done!\n"
     ]
    },
    {
     "name": "stderr",
     "output_type": "stream",
     "text": [
      "Writing activities to SQLite3 database:\n",
      "0% [##############################] 100% | ETA: 00:00:00\n",
      "Total time elapsed: 00:00:31\n"
     ]
    },
    {
     "name": "stdout",
     "output_type": "stream",
     "text": [
      "Title: Writing activities to SQLite3 database:\n",
      "  Started: 06/19/2023 12:11:07\n",
      "  Finished: 06/19/2023 12:11:38\n",
      "  Total time elapsed: 00:00:31\n",
      "  CPU %: 86.50\n",
      "  Memory %: 11.62\n",
      "Created database: test_metals\n",
      "Generate scenario report.\n",
      "Report saved under /Users/romain/GitHub/premise/dev/export/scenario_report.\n",
      "Generate change report.\n",
      "Report saved under /Users/romain/GitHub/premise/dev.\n"
     ]
    }
   ],
   "source": [
    "ndb.write_db_to_brightway(\"test_metals\")"
   ]
  },
  {
   "cell_type": "code",
   "execution_count": null,
   "id": "fb809bb4-77c3-4e57-98a0-bbc15e3b7115",
   "metadata": {},
   "outputs": [],
   "source": [
    "products = [\n",
    "    'lightweighting, glider',\n",
    "    'auxilliary battery inputs, for road vehicle',\n",
    "    'battery cell, Li-ion, NMC622',\n",
    "    'auxilliary electronics inputs, for fuel cell electric vehicle',\n",
    "    'auxilliary material inputs, for fuel cell electric vehicle',\n",
    "    'fuel cell stack, for fuel cell electric vehicle',\n",
    "    'carbon fiber, weaved',\n",
    "    'tank liner, polyethylene, high density',\n",
    "    'transformer and rectifier unit, for electrolyser',\n",
    "    'fuel tank, for diesel road vehicle',\n",
    "    'fuel tank, for compressed hydrogen gas, 700bar',\n",
    "    'fuel tank, for compressed hydrogen gas, 700bar',\n",
    "    'fuel tank, for compressed hydrogen gas, 700bar',\n",
    "    'fuel tank, for compressed natural gas, 200 bar',\n",
    "    'charger, level 3, plugin, 200 kW, for electric vehicle',\n",
    "    'gearbox, for lorry',\n",
    "    'transmission, for lorry',\n",
    "    'suspension, for lorry',\n",
    "    'power electronics, for lorry',\n",
    "    'auxilliary material inputs, for electric lorry',\n",
    "    'retarder, for lorry',\n",
    "    'cabin, for lorry',\n",
    "    'frame, blanks and saddle, for lorry',\n",
    "    'tires and wheels, for lorry',\n",
    "    'auxilliary material inputs, for hydrid electric lorry',\n",
    "    'exhaust system, for lorry',\n",
    "    'internal combustion engine, for lorry',\n",
    "    'lead acid battery, for lorry',\n",
    "    'charger, level 3, with pantograph, 450 kW, for electric vehicle',\n",
    "    'overhead lines, for electric vehicle',\n",
    "    'battery cell, Li-ion, LTO',\n",
    "    'charging station, 3kW',\n",
    "    'battery cell,  Li-ion, LFP',\n",
    "    'battery cell, Li-ion, NCA',\n",
    "    'assembly operation, for lorry'\n",
    "]\n",
    "\n",
    "print(len(products))\n",
    "\n",
    "acts = [a for a in bw.Database(\"brian\") if a[\"reference product\"] in products]"
   ]
  },
  {
   "cell_type": "code",
   "execution_count": null,
   "id": "2fe0b434-3bf6-4966-8b32-4a8edc4fa4a9",
   "metadata": {},
   "outputs": [],
   "source": [
    "len(acts)"
   ]
  },
  {
   "cell_type": "code",
   "execution_count": null,
   "id": "bbb39e2b-407c-4322-bcdb-d1052d752269",
   "metadata": {},
   "outputs": [],
   "source": [
    "[a[\"reference product\"] for a in acts]"
   ]
  },
  {
   "cell_type": "code",
   "execution_count": null,
   "id": "da6140c8-de76-4652-adc2-71eb503db0ad",
   "metadata": {},
   "outputs": [],
   "source": [
    "import bw2data\n",
    "bw2io.BW2Package.export_obj(obj=bw.Database(\"brian\"), filename=\"db_for_brian.bw2package\")"
   ]
  },
  {
   "cell_type": "code",
   "execution_count": null,
   "id": "064e659a-3099-4873-95f7-58cfd38b182a",
   "metadata": {},
   "outputs": [],
   "source": [
    "import bw2data\n",
    "bw2io.BW2Package.import_file(\"db_for_brian.bw2package\")"
   ]
  },
  {
   "cell_type": "code",
   "execution_count": null,
   "id": "72c77405-f7ce-4bb5-ba51-25da01464e38",
   "metadata": {},
   "outputs": [],
   "source": []
  },
  {
   "cell_type": "code",
   "execution_count": null,
   "id": "99d0e38d-2076-43bf-89b5-0f1eb0b2c517",
   "metadata": {},
   "outputs": [],
   "source": [
    "fp = \"/Users/romain/Library/Application Support/Brightway3/ei39.f1469ad5eb0a071dc60323f6e0fce980/output/lci-brian.xlsx\"\n",
    "import bw2io\n",
    "\n",
    "i = bw2io.ExcelImporter(fp)\n",
    "i.apply_strategies()"
   ]
  },
  {
   "cell_type": "code",
   "execution_count": null,
   "id": "6e1c7c26-2f03-4f08-a51f-e49dd9a24654",
   "metadata": {},
   "outputs": [],
   "source": [
    "ei_acts = list(set([(a[\"name\"], a[\"reference product\"]) for a in bw.Database(\"ecoinvent 3.9.1 cutoff\")]))\n",
    "print(len(ei_acts))"
   ]
  },
  {
   "cell_type": "code",
   "execution_count": null,
   "id": "c7e00458-5c8f-4020-b572-217edbcd99b0",
   "metadata": {},
   "outputs": [],
   "source": [
    "for ds in i.data:\n",
    "    if (ds[\"name\"], ds[\"reference product\"]) in ei_acts:\n",
    "        i.data.remove(ds)"
   ]
  },
  {
   "cell_type": "code",
   "execution_count": null,
   "id": "3b401e2d-00ac-436c-9790-4d2993b34d5c",
   "metadata": {},
   "outputs": [],
   "source": [
    "for ds in i.data:\n",
    "    if (ds[\"name\"], ds[\"reference product\"]) not in ei_acts:\n",
    "        print(ds[\"name\"])"
   ]
  },
  {
   "cell_type": "code",
   "execution_count": null,
   "id": "14c845d0-bec2-422a-b45f-65449cfee617",
   "metadata": {},
   "outputs": [],
   "source": [
    "len(i.data)"
   ]
  },
  {
   "cell_type": "code",
   "execution_count": null,
   "id": "aae4a053-361c-467f-b2bf-8e0ec296825d",
   "metadata": {},
   "outputs": [],
   "source": [
    "for ds in i.data:\n",
    "    print(ds[\"name\"])"
   ]
  },
  {
   "cell_type": "code",
   "execution_count": null,
   "id": "b925692a-0ea5-4d81-ab0d-f372ed885066",
   "metadata": {},
   "outputs": [],
   "source": [
    "i.match_database(fields=[\"name\", \"unit\", \"location\"])\n",
    "i.match_database(\"ecoinvent 3.9.1 cutoff\", fields=[\"name\", \"reference product\", \"location\", \"unit\"])\n",
    "i.match_database(\"biosphere3\", fields=[\"name\", \"categories\", \"unit\"])"
   ]
  },
  {
   "cell_type": "code",
   "execution_count": null,
   "id": "c11cbab3-54d4-4b5f-95af-c884c132cf71",
   "metadata": {},
   "outputs": [],
   "source": [
    "i.statistics()"
   ]
  },
  {
   "cell_type": "code",
   "execution_count": null,
   "id": "a9c2561c-04b2-40ff-9260-e98001d18182",
   "metadata": {},
   "outputs": [],
   "source": [
    "list(i.unlinked)[-1]"
   ]
  },
  {
   "cell_type": "code",
   "execution_count": null,
   "id": "ce5a2786-ca13-4da6-ab1f-a1e8851d13cd",
   "metadata": {},
   "outputs": [],
   "source": [
    "bw.get_activity(('brian', '360c5e612a154ebb8cee2650bcc1bc75_copy1'))"
   ]
  },
  {
   "cell_type": "code",
   "execution_count": null,
   "id": "63f69aa3-ab14-4301-8ad7-5ed044bc1ec0",
   "metadata": {},
   "outputs": [],
   "source": [
    "for f in bw.Database(\"biosphere3\"):\n",
    "    if f[\"code\"] == \"e030108f-2125-4bcb-a73b-ad72130fcca3\":\n",
    "        print(f)"
   ]
  },
  {
   "cell_type": "code",
   "execution_count": null,
   "id": "834f3044-a3eb-4527-8c36-cbfdc92cf312",
   "metadata": {},
   "outputs": [],
   "source": [
    "bw.projects.set_current(\"ei39\")"
   ]
  },
  {
   "cell_type": "code",
   "execution_count": null,
   "id": "bdf5d023-c454-47cb-8a7f-254ab7aa95a1",
   "metadata": {},
   "outputs": [],
   "source": [
    "l = []\n",
    "\n",
    "for f in bw.Database(\"biosphere3\"):\n",
    "    l.append([f[\"name\"], f[\"categories\"][0], f[\"categories\"][1] if len(f[\"categories\"])>1 else \"unspecified\", f[\"unit\"], f[\"code\"]])"
   ]
  },
  {
   "cell_type": "code",
   "execution_count": null,
   "id": "523e3465-6669-481f-a549-667c79eb75e0",
   "metadata": {},
   "outputs": [],
   "source": [
    "import csv\n",
    "\n",
    "with open(\"flows_biosphere_39.csv\", \"w\", newline=\"\", ) as f:\n",
    "    writer = csv.writer(f, delimiter=\";\")\n",
    "    writer.writerows(l)"
   ]
  },
  {
   "cell_type": "code",
   "execution_count": null,
   "id": "66dd7104-57aa-4338-945e-c005711a8e72",
   "metadata": {},
   "outputs": [],
   "source": [
    "ndb.scenarios[1][\"iam data\"].fuel_markets.sel(region=\"NEU\").variables.values"
   ]
  },
  {
   "cell_type": "code",
   "execution_count": null,
   "id": "07410afa-636e-4960-b73a-09d4b472ca32",
   "metadata": {},
   "outputs": [],
   "source": [
    "import numpy as np\n",
    "for ds in ndb.scenarios[1][\"database\"]:\n",
    "    if ds[\"name\"] == (\"carbon dioxide, captured from atmosphere, with a solvent-based direct air capture system, 1MtCO2, with waste heat, and grid electricity\",\n",
    "                            \"carbon dioxide, captured from atmosphere\"):\n",
    "            print(ds[\"name\"], ds[\"location\"])"
   ]
  },
  {
   "cell_type": "code",
   "execution_count": null,
   "id": "38db0088-294b-4fe4-9476-5e3ad1928b1e",
   "metadata": {},
   "outputs": [],
   "source": [
    "for ds in ndb.scenarios[1][\"database\"]:\n",
    "    if \"carbon dioxide, captured\" in ds[\"name\"]:\n",
    "        print(ds[\"name\"], ds[\"location\"])"
   ]
  },
  {
   "cell_type": "code",
   "execution_count": null,
   "id": "225fc5ae-a809-4f4f-86aa-bfeadfd8f9a3",
   "metadata": {},
   "outputs": [],
   "source": [
    "ndb.scenarios[0][\"iam data\"].fuel_markets.sel(region=\"WEU\", year=2050)"
   ]
  },
  {
   "cell_type": "code",
   "execution_count": null,
   "id": "c119f58f-7c7f-4ae3-9ed1-da5d66e117f4",
   "metadata": {},
   "outputs": [],
   "source": [
    "ndb.scenarios[0][\"iam data\"].fuel_markets.sel(region=\"WEU\")"
   ]
  },
  {
   "cell_type": "code",
   "execution_count": null,
   "id": "eda800d6-71a9-44ac-96d9-5b08f3a1bdd5",
   "metadata": {},
   "outputs": [],
   "source": [
    "ndb.update_electricity()"
   ]
  },
  {
   "cell_type": "code",
   "execution_count": null,
   "id": "3a6b893a-288b-4efd-861c-4c076ec833d5",
   "metadata": {},
   "outputs": [],
   "source": [
    "ndb.scenarios[0][\"iam data\"].fuel_markets"
   ]
  },
  {
   "cell_type": "code",
   "execution_count": null,
   "id": "cf5554a4-3f00-41e8-8c7d-93fea7d7fb96",
   "metadata": {},
   "outputs": [],
   "source": [
    "ndb.generate_scenario_report()"
   ]
  },
  {
   "cell_type": "code",
   "execution_count": null,
   "id": "54cf2fb0-3d72-4b55-91dd-99111c1e56b5",
   "metadata": {},
   "outputs": [],
   "source": [
    "ndb.generate_change_report()"
   ]
  },
  {
   "cell_type": "code",
   "execution_count": null,
   "id": "d6308c7c-d6b3-4f3a-bbae-51ee3ca647ac",
   "metadata": {},
   "outputs": [],
   "source": [
    "ndb.update_all()"
   ]
  },
  {
   "cell_type": "code",
   "execution_count": null,
   "id": "0a4df5b8-f080-4c5f-9f89-85b60f1ef901",
   "metadata": {},
   "outputs": [],
   "source": [
    "ndb.generate_scenario_report()"
   ]
  },
  {
   "cell_type": "code",
   "execution_count": null,
   "id": "c3befdd3-1c6b-4ea3-a2e5-ac6a00bd4256",
   "metadata": {},
   "outputs": [],
   "source": [
    "ndb.generate_change_report()"
   ]
  },
  {
   "cell_type": "code",
   "execution_count": null,
   "id": "71a07af3-cea2-4ed1-9ce2-df129cc610ae",
   "metadata": {},
   "outputs": [],
   "source": [
    "ndb.scenarios[0][\"iam data\"].gains_data_IAM"
   ]
  },
  {
   "cell_type": "code",
   "execution_count": null,
   "id": "0a65551d-3511-46d5-9d1d-bca62464349a",
   "metadata": {},
   "outputs": [],
   "source": []
  },
  {
   "cell_type": "code",
   "execution_count": null,
   "id": "b985c91f-f574-467e-91e7-06cf0914dec4",
   "metadata": {},
   "outputs": [],
   "source": [
    "ndb.update_all()"
   ]
  },
  {
   "cell_type": "code",
   "execution_count": null,
   "id": "9bb2ac11-7da7-4c39-b87b-7aa1a66ef4b0",
   "metadata": {},
   "outputs": [],
   "source": [
    "ndb.write_db_to_brightway([\"test_dac\", \"test_dac2\"])"
   ]
  },
  {
   "cell_type": "code",
   "execution_count": null,
   "id": "bf88e9fc-4599-4de0-b926-5c8d3769a578",
   "metadata": {},
   "outputs": [],
   "source": [
    "from premise.geomap import Geomap"
   ]
  },
  {
   "cell_type": "code",
   "execution_count": null,
   "id": "a30fd37c-1a81-489b-877d-fe1073eb4106",
   "metadata": {},
   "outputs": [],
   "source": [
    "Geomap()"
   ]
  },
  {
   "cell_type": "code",
   "execution_count": null,
   "id": "8b173e59-c5d2-444c-b287-8b5ee262fa47",
   "metadata": {},
   "outputs": [],
   "source": [
    "Geomap(model=\"remind\").geo.keys()"
   ]
  },
  {
   "cell_type": "code",
   "execution_count": null,
   "id": "d20965c2-7b61-4488-bf78-9e268fc44471",
   "metadata": {},
   "outputs": [],
   "source": [
    "ndb.scenarios[0][\"iam data\"].carbon_capture_rate.sel(variables=\"steel\")"
   ]
  },
  {
   "cell_type": "code",
   "execution_count": null,
   "id": "672acf43-2f1a-4154-8d0f-5366b0490acd",
   "metadata": {},
   "outputs": [],
   "source": [
    "for ds in ndb.scenarios[0][\"database\"]:\n",
    "    for e in ds[\"exchanges\"]:\n",
    "        if e[\"name\"].startswith(\"CO2 capture, at cement production plant\"):\n",
    "            print(e[\"name\"], e.get(\"location\"), e[\"amount\"])\n",
    "            print(ds[\"name\"])\n",
    "            print(\"--------------------\")"
   ]
  },
  {
   "cell_type": "code",
   "execution_count": null,
   "id": "78d7a866-3371-42e5-b1d2-6b8df2a801a4",
   "metadata": {},
   "outputs": [],
   "source": []
  }
 ],
 "metadata": {
  "kernelspec": {
   "display_name": "Python 3 (ipykernel)",
   "language": "python",
   "name": "python3"
  },
  "language_info": {
   "codemirror_mode": {
    "name": "ipython",
    "version": 3
   },
   "file_extension": ".py",
   "mimetype": "text/x-python",
   "name": "python",
   "nbconvert_exporter": "python",
   "pygments_lexer": "ipython3",
   "version": "3.10.8"
  }
 },
 "nbformat": 4,
 "nbformat_minor": 5
}
